{
 "cells": [
  {
   "cell_type": "code",
   "execution_count": 1,
   "id": "ea282f2e-ba67-4bc1-80ae-cd9006435af9",
   "metadata": {},
   "outputs": [],
   "source": [
    "# from utilities import process_all_files_from_directory\n",
    "import pandas as pd\n",
    "import numpy as np\n",
    "import polars as pl\n",
    "import os\n",
    "from decimal import Decimal, getcontext"
   ]
  },
  {
   "cell_type": "markdown",
   "id": "e5bc166c-39b4-4e70-b429-903d34562795",
   "metadata": {},
   "source": [
    "#### Important functions"
   ]
  },
  {
   "cell_type": "code",
   "execution_count": 2,
   "id": "ffe1c799-a6a9-4522-a60b-f91d8799cf70",
   "metadata": {},
   "outputs": [],
   "source": [
    "def calculate_series(val, discount_rate, start_year, end_year=2050, ftype='discounted'):\n",
    "    if ftype == 'discounted':\n",
    "        res = val * ((1 - (1 / (1 + discount_rate)) ** (end_year - start_year + 1)) / (1 - (1 / (1 + discount_rate)))) - val\n",
    "    elif ftype == 'undiscounted':\n",
    "        res = val * (end_year - start_year + 1) - val\n",
    "    else:\n",
    "        res = None\n",
    "    return res"
   ]
  },
  {
   "cell_type": "code",
   "execution_count": 3,
   "id": "353193a0-80e8-48c3-bafc-55308b6f4d78",
   "metadata": {},
   "outputs": [],
   "source": [
    "def to_decimal(val):\n",
    "    return Decimal(val) if val is not None else None\n",
    "\n",
    "def convert_float_columns_to_decimal(df):\n",
    "    float_columns = [col for col, dtype in zip(df.columns, df.dtypes) if dtype == pl.Float32 or dtype == pl.Float64]\n",
    "    \n",
    "    df = df.with_columns([pl.col(col).map_elements(to_decimal) for col in float_columns])\n",
    "    \n",
    "    return df\n"
   ]
  },
  {
   "cell_type": "markdown",
   "id": "9b97505f-b18a-46d2-ab0d-a50f291e0d18",
   "metadata": {},
   "source": [
    "## Set Precision"
   ]
  },
  {
   "cell_type": "code",
   "execution_count": 4,
   "id": "28183bcc-1818-45a4-bb62-3e76271c06e9",
   "metadata": {},
   "outputs": [],
   "source": [
    "getcontext().prec = 12"
   ]
  },
  {
   "cell_type": "code",
   "execution_count": 5,
   "id": "62c200ca-f3d1-49b8-8dcb-43f7bd014388",
   "metadata": {
    "scrolled": true
   },
   "outputs": [
    {
     "data": {
      "text/html": [
       "<div><style>\n",
       ".dataframe > thead > tr,\n",
       ".dataframe > tbody > tr {\n",
       "  text-align: right;\n",
       "  white-space: pre-wrap;\n",
       "}\n",
       "</style>\n",
       "<small>shape: (140_868, 13)</small><table border=\"1\" class=\"dataframe\"><thead><tr><th>entity_id</th><th>rcp_scenario</th><th>physical_impact_year</th><th>expected_revenue_loss_amount_series_undiscounted</th><th>expected_asset_damage_loss_amount_series_undiscounted</th><th>expected_direct_damage_loss_amount_series_undiscounted</th><th>expected_indirect_loss_amount_series_undiscounted</th><th>expected_revenue_loss_amount_series_discounted</th><th>expected_asset_damage_loss_amount_series_discounted</th><th>expected_direct_damage_loss_amount_series_discounted</th><th>expected_indirect_loss_amount_series_discounted</th><th>expected_total_loss_amount_series_undiscounted</th><th>expected_total_loss_amount_series_discounted</th></tr><tr><td>i64</td><td>str</td><td>i64</td><td>f64</td><td>f64</td><td>f64</td><td>f64</td><td>f64</td><td>f64</td><td>f64</td><td>f64</td><td>f64</td><td>f64</td></tr></thead><tbody><tr><td>1007896773</td><td>&quot;RCP2.6&quot;</td><td>2023</td><td>1.6104e7</td><td>1.5280e7</td><td>3.1384e7</td><td>7.4451e6</td><td>1.4066e7</td><td>1.3346e7</td><td>2.7412e7</td><td>6.5028e6</td><td>3.8829e7</td><td>3.3915e7</td></tr><tr><td>1007896773</td><td>&quot;RCP2.6&quot;</td><td>2024</td><td>1.6362e7</td><td>1.5464e7</td><td>3.1825e7</td><td>7.5557e6</td><td>1.3356e7</td><td>1.2623e7</td><td>2.5979e7</td><td>6.1677e6</td><td>3.9381e7</td><td>3.2147e7</td></tr><tr><td>1007896773</td><td>&quot;RCP2.6&quot;</td><td>2025</td><td>1.6620e7</td><td>1.5647e7</td><td>3.2266e7</td><td>7.6664e6</td><td>1.2679e7</td><td>1.1937e7</td><td>2.4616e7</td><td>5.8487e6</td><td>3.9933e7</td><td>3.0465e7</td></tr><tr><td>1007896773</td><td>&quot;RCP2.6&quot;</td><td>2026</td><td>1.6816e7</td><td>1.5759e7</td><td>3.2575e7</td><td>7.8057e6</td><td>1.1990e7</td><td>1.1236e7</td><td>2.3225e7</td><td>5.5653e6</td><td>4.0380e7</td><td>2.8791e7</td></tr><tr><td>1007896773</td><td>&quot;RCP2.6&quot;</td><td>2027</td><td>1.7012e7</td><td>1.5870e7</td><td>3.2883e7</td><td>7.9450e6</td><td>1.1336e7</td><td>1.0575e7</td><td>2.1911e7</td><td>5.2941e6</td><td>4.0828e7</td><td>2.7205e7</td></tr><tr><td>&hellip;</td><td>&hellip;</td><td>&hellip;</td><td>&hellip;</td><td>&hellip;</td><td>&hellip;</td><td>&hellip;</td><td>&hellip;</td><td>&hellip;</td><td>&hellip;</td><td>&hellip;</td><td>&hellip;</td><td>&hellip;</td></tr><tr><td>2013649583</td><td>&quot;RCP2.6&quot;</td><td>2046</td><td>3.4171e6</td><td>2.4549e6</td><td>5.8720e6</td><td>1.6509e6</td><td>629603.070113</td><td>452313.040933</td><td>1.0819e6</td><td>304174.411124</td><td>7.5229e6</td><td>1.3861e6</td></tr><tr><td>2013649583</td><td>&quot;RCP2.6&quot;</td><td>2047</td><td>3.4898e6</td><td>2.5281e6</td><td>6.0179e6</td><td>1.6944e6</td><td>600930.70175</td><td>435325.944002</td><td>1.0363e6</td><td>291773.496587</td><td>7.7123e6</td><td>1.3280e6</td></tr><tr><td>2013649583</td><td>&quot;RCP2.6&quot;</td><td>2048</td><td>3.5625e6</td><td>2.6013e6</td><td>6.1638e6</td><td>1.7380e6</td><td>573315.251666</td><td>418625.62602</td><td>991940.877687</td><td>279692.881061</td><td>7.9018e6</td><td>1.2716e6</td></tr><tr><td>2013649583</td><td>&quot;RCP2.6&quot;</td><td>2049</td><td>3.6352e6</td><td>2.6745e6</td><td>6.3097e6</td><td>1.7815e6</td><td>546741.144917</td><td>402247.266732</td><td>948988.411649</td><td>267943.758431</td><td>8.0912e6</td><td>1.2169e6</td></tr><tr><td>2013649583</td><td>&quot;RCP2.6&quot;</td><td>2050</td><td>3.7079e6</td><td>2.7477e6</td><td>6.4556e6</td><td>1.8251e6</td><td>521190.32095</td><td>386220.215553</td><td>907410.536503</td><td>256534.485291</td><td>8.2806e6</td><td>1.1639e6</td></tr></tbody></table></div>"
      ],
      "text/plain": [
       "shape: (140_868, 13)\n",
       "┌────────────┬──────────────┬──────────────┬──────────────┬───┬──────────────┬─────────────┬─────────────┬─────────────┐\n",
       "│ entity_id  ┆ rcp_scenario ┆ physical_imp ┆ expected_rev ┆ … ┆ expected_dir ┆ expected_in ┆ expected_to ┆ expected_to │\n",
       "│ ---        ┆ ---          ┆ act_year     ┆ enue_loss_am ┆   ┆ ect_damage_l ┆ direct_loss ┆ tal_loss_am ┆ tal_loss_am │\n",
       "│ i64        ┆ str          ┆ ---          ┆ ount_s…      ┆   ┆ oss_am…      ┆ _amount_…   ┆ ount_ser…   ┆ ount_ser…   │\n",
       "│            ┆              ┆ i64          ┆ ---          ┆   ┆ ---          ┆ ---         ┆ ---         ┆ ---         │\n",
       "│            ┆              ┆              ┆ f64          ┆   ┆ f64          ┆ f64         ┆ f64         ┆ f64         │\n",
       "╞════════════╪══════════════╪══════════════╪══════════════╪═══╪══════════════╪═════════════╪═════════════╪═════════════╡\n",
       "│ 1007896773 ┆ RCP2.6       ┆ 2023         ┆ 1.6104e7     ┆ … ┆ 2.7412e7     ┆ 6.5028e6    ┆ 3.8829e7    ┆ 3.3915e7    │\n",
       "│ 1007896773 ┆ RCP2.6       ┆ 2024         ┆ 1.6362e7     ┆ … ┆ 2.5979e7     ┆ 6.1677e6    ┆ 3.9381e7    ┆ 3.2147e7    │\n",
       "│ 1007896773 ┆ RCP2.6       ┆ 2025         ┆ 1.6620e7     ┆ … ┆ 2.4616e7     ┆ 5.8487e6    ┆ 3.9933e7    ┆ 3.0465e7    │\n",
       "│ 1007896773 ┆ RCP2.6       ┆ 2026         ┆ 1.6816e7     ┆ … ┆ 2.3225e7     ┆ 5.5653e6    ┆ 4.0380e7    ┆ 2.8791e7    │\n",
       "│ 1007896773 ┆ RCP2.6       ┆ 2027         ┆ 1.7012e7     ┆ … ┆ 2.1911e7     ┆ 5.2941e6    ┆ 4.0828e7    ┆ 2.7205e7    │\n",
       "│ …          ┆ …            ┆ …            ┆ …            ┆ … ┆ …            ┆ …           ┆ …           ┆ …           │\n",
       "│ 2013649583 ┆ RCP2.6       ┆ 2046         ┆ 3.4171e6     ┆ … ┆ 1.0819e6     ┆ 304174.4111 ┆ 7.5229e6    ┆ 1.3861e6    │\n",
       "│            ┆              ┆              ┆              ┆   ┆              ┆ 24          ┆             ┆             │\n",
       "│ 2013649583 ┆ RCP2.6       ┆ 2047         ┆ 3.4898e6     ┆ … ┆ 1.0363e6     ┆ 291773.4965 ┆ 7.7123e6    ┆ 1.3280e6    │\n",
       "│            ┆              ┆              ┆              ┆   ┆              ┆ 87          ┆             ┆             │\n",
       "│ 2013649583 ┆ RCP2.6       ┆ 2048         ┆ 3.5625e6     ┆ … ┆ 991940.87768 ┆ 279692.8810 ┆ 7.9018e6    ┆ 1.2716e6    │\n",
       "│            ┆              ┆              ┆              ┆   ┆ 7            ┆ 61          ┆             ┆             │\n",
       "│ 2013649583 ┆ RCP2.6       ┆ 2049         ┆ 3.6352e6     ┆ … ┆ 948988.41164 ┆ 267943.7584 ┆ 8.0912e6    ┆ 1.2169e6    │\n",
       "│            ┆              ┆              ┆              ┆   ┆ 9            ┆ 31          ┆             ┆             │\n",
       "│ 2013649583 ┆ RCP2.6       ┆ 2050         ┆ 3.7079e6     ┆ … ┆ 907410.53650 ┆ 256534.4852 ┆ 8.2806e6    ┆ 1.1639e6    │\n",
       "│            ┆              ┆              ┆              ┆   ┆ 3            ┆ 91          ┆             ┆             │\n",
       "└────────────┴──────────────┴──────────────┴──────────────┴───┴──────────────┴─────────────┴─────────────┴─────────────┘"
      ]
     },
     "execution_count": 5,
     "metadata": {},
     "output_type": "execute_result"
    }
   ],
   "source": [
    "damage_full = pl.read_csv('C:/Users/jkumava/Downloads/PCRM/damage_full_202407161812.csv')\n",
    "damage_full"
   ]
  },
  {
   "cell_type": "code",
   "execution_count": 6,
   "id": "3f657284-a6ba-483f-a845-23b14734b92c",
   "metadata": {},
   "outputs": [],
   "source": [
    "def convert_float_columns_to_decimal(df, scale):\n",
    "    precision = 36  # Set a precision value high enough for your needs\n",
    "    float_columns = [col for col, dtype in zip(df.columns, df.dtypes) if dtype in [pl.Float32, pl.Float64]]\n",
    "\n",
    "    # Cast the float columns to Decimal with specified precision and scale\n",
    "    df = df.with_columns([pl.col(col).cast(pl.Decimal(scale=scale, precision=precision)).alias(col) for col in float_columns])\n",
    "    \n",
    "    return df"
   ]
  },
  {
   "cell_type": "code",
   "execution_count": 7,
   "id": "de24b240-0900-4364-818d-22ce03eed271",
   "metadata": {},
   "outputs": [],
   "source": [
    "damage_full = convert_float_columns_to_decimal(damage_full,12)"
   ]
  },
  {
   "cell_type": "code",
   "execution_count": 8,
   "id": "27e07a2c-f5bb-4574-93d7-ab8c1e908661",
   "metadata": {},
   "outputs": [],
   "source": [
    "# Explicite conversion\n",
    "# df = df.with_columnss([\n",
    "#     pl.col(\"gppe_median_usd\").map_elements(to_decimal, return_dtype=pl.Object),\n",
    "#     pl.col(\"cash_median_usd\").map_elements(to_decimal, return_dtype=pl.Object),\n",
    "#     pl.col(\"revenue_median_usd\").map_elements(to_decimal, return_dtype=pl.Object),\n",
    "#     pl.col(\"gppe_avg_usd\").map_elements(to_decimal, return_dtype=pl.Object),\n",
    "#     pl.col(\"cash_avg_usd\").map_elements(to_decimal, return_dtype=pl.Object),\n",
    "#     pl.col(\"revenue_avg_usd\").map_elements(to_decimal, return_dtype=pl.Object)\n",
    "# ])"
   ]
  },
  {
   "cell_type": "code",
   "execution_count": 9,
   "id": "aec4b6db-1c1d-46a6-9350-e4fdaec18248",
   "metadata": {},
   "outputs": [
    {
     "data": {
      "text/html": [
       "<div><style>\n",
       ".dataframe > thead > tr,\n",
       ".dataframe > tbody > tr {\n",
       "  text-align: right;\n",
       "  white-space: pre-wrap;\n",
       "}\n",
       "</style>\n",
       "<small>shape: (46_723, 13)</small><table border=\"1\" class=\"dataframe\"><thead><tr><th>entity_id</th><th>fiscal_year</th><th>gppe_median_usd</th><th>cash_median_usd</th><th>revenue_median_usd</th><th>gppe_avg_usd</th><th>cash_avg_usd</th><th>revenue_avg_usd</th><th>dt_created</th><th>dt_updated</th><th>fl_deleted</th><th>cash_flow_series_cumulative_discounted</th><th>cash_flow_series_cumulative_undiscounted</th></tr><tr><td>i64</td><td>i64</td><td>f64</td><td>f64</td><td>f64</td><td>f64</td><td>f64</td><td>f64</td><td>str</td><td>str</td><td>str</td><td>f64</td><td>f64</td></tr></thead><tbody><tr><td>2000140868</td><td>2020</td><td>2.0877e7</td><td>2.7780e6</td><td>null</td><td>2.0877e7</td><td>2.7780e6</td><td>null</td><td>&quot;2024-03-22 16:23:13.948&quot;</td><td>&quot;2024-03-22 16:23:13.948&quot;</td><td>null</td><td>3.3717e7</td><td>7.7784e7</td></tr><tr><td>1008049895</td><td>2022</td><td>2.2996e9</td><td>6.1992e8</td><td>3.9619e9</td><td>2.2861e9</td><td>7.0290e8</td><td>4.8270e9</td><td>&quot;2024-01-18 14:16:50.731&quot;</td><td>&quot;2024-03-27 13:43:07.434&quot;</td><td>null</td><td>8.5312e9</td><td>1.9681e10</td></tr><tr><td>1008177948</td><td>2022</td><td>1.7273e9</td><td>4.362e8</td><td>2.3647e9</td><td>1.7713e9</td><td>4.3828e8</td><td>2.6727e9</td><td>&quot;2024-01-18 14:16:50.731&quot;</td><td>&quot;2024-03-27 13:43:07.434&quot;</td><td>null</td><td>5.3195e9</td><td>1.2272e10</td></tr><tr><td>2001722369</td><td>2021</td><td>1.6426e7</td><td>1.3795e6</td><td>null</td><td>8.2218e6</td><td>-351217.347835</td><td>null</td><td>&quot;2024-03-22 16:23:13.948&quot;</td><td>&quot;2024-03-22 16:23:13.948&quot;</td><td>null</td><td>-4.2628e6</td><td>-9.8341e6</td></tr><tr><td>2004493237</td><td>2020</td><td>2.1919e8</td><td>-1.0678e8</td><td>null</td><td>2.1919e8</td><td>-1.0678e8</td><td>null</td><td>&quot;2024-03-22 16:23:13.948&quot;</td><td>&quot;2024-03-22 16:23:13.948&quot;</td><td>null</td><td>-1.2960e9</td><td>-2.9898e9</td></tr><tr><td>&hellip;</td><td>&hellip;</td><td>&hellip;</td><td>&hellip;</td><td>&hellip;</td><td>&hellip;</td><td>&hellip;</td><td>&hellip;</td><td>&hellip;</td><td>&hellip;</td><td>&hellip;</td><td>&hellip;</td><td>&hellip;</td></tr><tr><td>2000505558</td><td>2022</td><td>2.6230e8</td><td>1.8468e7</td><td>null</td><td>2.5956e8</td><td>1.7731e7</td><td>null</td><td>&quot;2024-01-18 14:16:50.731&quot;</td><td>&quot;2024-03-05 11:45:04.755&quot;</td><td>null</td><td>2.1520e8</td><td>4.9647e8</td></tr><tr><td>2000181128</td><td>2022</td><td>241702.163585</td><td>-2.2059e6</td><td>null</td><td>173459.180527</td><td>-2.3765e6</td><td>null</td><td>&quot;2024-01-18 14:16:50.731&quot;</td><td>&quot;2024-03-05 11:45:04.755&quot;</td><td>null</td><td>-2.8844e7</td><td>-6.6541e7</td></tr><tr><td>2001710123</td><td>2022</td><td>2.8048e7</td><td>9.0198e6</td><td>null</td><td>2.8460e7</td><td>8.7296e6</td><td>null</td><td>&quot;2024-01-18 14:16:50.731&quot;</td><td>&quot;2024-03-05 11:45:04.755&quot;</td><td>null</td><td>1.0595e8</td><td>2.4443e8</td></tr><tr><td>2001226080</td><td>2022</td><td>138704.751482</td><td>23038.741734</td><td>null</td><td>134291.915495</td><td>117275.066912</td><td>null</td><td>&quot;2024-01-18 14:16:50.731&quot;</td><td>&quot;2024-03-05 11:45:04.755&quot;</td><td>null</td><td>1.4234e6</td><td>3.2837e6</td></tr><tr><td>2009598471</td><td>2022</td><td>696245.54268</td><td>251455.230813</td><td>null</td><td>669710.494597</td><td>202748.579899</td><td>null</td><td>&quot;2024-01-18 14:16:50.731&quot;</td><td>&quot;2024-03-05 11:45:04.755&quot;</td><td>null</td><td>2.4608e6</td><td>5.6770e6</td></tr></tbody></table></div>"
      ],
      "text/plain": [
       "shape: (46_723, 13)\n",
       "┌────────────┬─────────────┬──────────────┬──────────────┬───┬──────────────┬────────────┬──────────────┬──────────────┐\n",
       "│ entity_id  ┆ fiscal_year ┆ gppe_median_ ┆ cash_median_ ┆ … ┆ dt_updated   ┆ fl_deleted ┆ cash_flow_se ┆ cash_flow_se │\n",
       "│ ---        ┆ ---         ┆ usd          ┆ usd          ┆   ┆ ---          ┆ ---        ┆ ries_cumulat ┆ ries_cumulat │\n",
       "│ i64        ┆ i64         ┆ ---          ┆ ---          ┆   ┆ str          ┆ str        ┆ ive_di…      ┆ ive_un…      │\n",
       "│            ┆             ┆ f64          ┆ f64          ┆   ┆              ┆            ┆ ---          ┆ ---          │\n",
       "│            ┆             ┆              ┆              ┆   ┆              ┆            ┆ f64          ┆ f64          │\n",
       "╞════════════╪═════════════╪══════════════╪══════════════╪═══╪══════════════╪════════════╪══════════════╪══════════════╡\n",
       "│ 2000140868 ┆ 2020        ┆ 2.0877e7     ┆ 2.7780e6     ┆ … ┆ 2024-03-22   ┆ null       ┆ 3.3717e7     ┆ 7.7784e7     │\n",
       "│            ┆             ┆              ┆              ┆   ┆ 16:23:13.948 ┆            ┆              ┆              │\n",
       "│ 1008049895 ┆ 2022        ┆ 2.2996e9     ┆ 6.1992e8     ┆ … ┆ 2024-03-27   ┆ null       ┆ 8.5312e9     ┆ 1.9681e10    │\n",
       "│            ┆             ┆              ┆              ┆   ┆ 13:43:07.434 ┆            ┆              ┆              │\n",
       "│ 1008177948 ┆ 2022        ┆ 1.7273e9     ┆ 4.362e8      ┆ … ┆ 2024-03-27   ┆ null       ┆ 5.3195e9     ┆ 1.2272e10    │\n",
       "│            ┆             ┆              ┆              ┆   ┆ 13:43:07.434 ┆            ┆              ┆              │\n",
       "│ 2001722369 ┆ 2021        ┆ 1.6426e7     ┆ 1.3795e6     ┆ … ┆ 2024-03-22   ┆ null       ┆ -4.2628e6    ┆ -9.8341e6    │\n",
       "│            ┆             ┆              ┆              ┆   ┆ 16:23:13.948 ┆            ┆              ┆              │\n",
       "│ 2004493237 ┆ 2020        ┆ 2.1919e8     ┆ -1.0678e8    ┆ … ┆ 2024-03-22   ┆ null       ┆ -1.2960e9    ┆ -2.9898e9    │\n",
       "│            ┆             ┆              ┆              ┆   ┆ 16:23:13.948 ┆            ┆              ┆              │\n",
       "│ …          ┆ …           ┆ …            ┆ …            ┆ … ┆ …            ┆ …          ┆ …            ┆ …            │\n",
       "│ 2000505558 ┆ 2022        ┆ 2.6230e8     ┆ 1.8468e7     ┆ … ┆ 2024-03-05   ┆ null       ┆ 2.1520e8     ┆ 4.9647e8     │\n",
       "│            ┆             ┆              ┆              ┆   ┆ 11:45:04.755 ┆            ┆              ┆              │\n",
       "│ 2000181128 ┆ 2022        ┆ 241702.16358 ┆ -2.2059e6    ┆ … ┆ 2024-03-05   ┆ null       ┆ -2.8844e7    ┆ -6.6541e7    │\n",
       "│            ┆             ┆ 5            ┆              ┆   ┆ 11:45:04.755 ┆            ┆              ┆              │\n",
       "│ 2001710123 ┆ 2022        ┆ 2.8048e7     ┆ 9.0198e6     ┆ … ┆ 2024-03-05   ┆ null       ┆ 1.0595e8     ┆ 2.4443e8     │\n",
       "│            ┆             ┆              ┆              ┆   ┆ 11:45:04.755 ┆            ┆              ┆              │\n",
       "│ 2001226080 ┆ 2022        ┆ 138704.75148 ┆ 23038.741734 ┆ … ┆ 2024-03-05   ┆ null       ┆ 1.4234e6     ┆ 3.2837e6     │\n",
       "│            ┆             ┆ 2            ┆              ┆   ┆ 11:45:04.755 ┆            ┆              ┆              │\n",
       "│ 2009598471 ┆ 2022        ┆ 696245.54268 ┆ 251455.23081 ┆ … ┆ 2024-03-05   ┆ null       ┆ 2.4608e6     ┆ 5.6770e6     │\n",
       "│            ┆             ┆              ┆ 3            ┆   ┆ 11:45:04.755 ┆            ┆              ┆              │\n",
       "└────────────┴─────────────┴──────────────┴──────────────┴───┴──────────────┴────────────┴──────────────┴──────────────┘"
      ]
     },
     "execution_count": 9,
     "metadata": {},
     "output_type": "execute_result"
    }
   ],
   "source": [
    "\n",
    "cash_flow_df = pl.read_csv('C:/Users/jkumava/Downloads/PCRM/company_global_ppe_202407111106.csv')\n",
    "\n",
    "cash_flow_df = convert_float_columns_to_decimal(cash_flow_df,12)\n",
    "\n",
    "cash_flow_df = cash_flow_df.with_columns([\n",
    "    pl.col(\"cash_avg_usd\").map_elements(lambda x: calculate_series(x, 0.07, 2022, 2050, 'discounted'), return_dtype=pl.Float64).alias(\"cash_flow_series_cumulative_discounted\"),\n",
    "    pl.col(\"cash_avg_usd\").map_elements(lambda x: calculate_series(x, 0.07, 2022, 2050, 'undiscounted'), return_dtype=pl.Float64).alias(\"cash_flow_series_cumulative_undiscounted\")\n",
    "])\n",
    "\n",
    "cash_flow_df = cash_flow_df.rename({\"sustcompanyid\": \"entity_id\"})\n",
    "cash_flow_df"
   ]
  },
  {
   "cell_type": "code",
   "execution_count": 10,
   "id": "5420e013-5bc8-4b36-a213-e2afdb54c5cd",
   "metadata": {},
   "outputs": [
    {
     "data": {
      "text/html": [
       "<div><style>\n",
       ".dataframe > thead > tr,\n",
       ".dataframe > tbody > tr {\n",
       "  text-align: right;\n",
       "  white-space: pre-wrap;\n",
       "}\n",
       "</style>\n",
       "<small>shape: (5_031, 8)</small><table border=\"1\" class=\"dataframe\"><thead><tr><th>entity_id</th><th>rcp_scenario</th><th>expected_indirect_loss_amount_cumulative_undiscounted</th><th>expected_indirect_loss_amount_cumulative_discounted</th><th>expected_revenue_loss_amount_cumulative_undiscounted</th><th>expected_revenue_loss_amount_cumulative_discounted</th><th>expected_asset_damage_loss_amount_cumulative_undiscounted</th><th>expected_asset_damage_loss_amount_cumulative_discounted</th></tr><tr><td>i64</td><td>str</td><td>f64</td><td>f64</td><td>f64</td><td>f64</td><td>f64</td><td>f64</td></tr></thead><tbody><tr><td>1012371436</td><td>&quot;RCP2.6&quot;</td><td>4.1773e7</td><td>1.5476e7</td><td>5.7988e7</td><td>2.0599e7</td><td>9.6610e7</td><td>3.6363e7</td></tr><tr><td>1008758403</td><td>&quot;RCP2.6&quot;</td><td>3.9306e6</td><td>1.5733e6</td><td>1.6227e7</td><td>6.3514e6</td><td>3.0494e7</td><td>1.2258e7</td></tr><tr><td>2000160058</td><td>&quot;RCP2.6&quot;</td><td>2.4831e7</td><td>9.1064e6</td><td>4.5834e7</td><td>1.7241e7</td><td>7.6328e7</td><td>2.8664e7</td></tr><tr><td>1016789142</td><td>&quot;RCP2.6&quot;</td><td>1.1195e7</td><td>4.3829e6</td><td>6.2842e7</td><td>2.5353e7</td><td>4.2292e7</td><td>1.7011e7</td></tr><tr><td>1016057001</td><td>&quot;RCP2.6&quot;</td><td>9.3272e6</td><td>3.5576e6</td><td>1.4915e7</td><td>5.6449e6</td><td>4.4717e7</td><td>1.7281e7</td></tr><tr><td>&hellip;</td><td>&hellip;</td><td>&hellip;</td><td>&hellip;</td><td>&hellip;</td><td>&hellip;</td><td>&hellip;</td><td>&hellip;</td></tr><tr><td>1008755869</td><td>&quot;RCP2.6&quot;</td><td>303696.864941</td><td>112432.982226</td><td>1.1176e6</td><td>430943.463304</td><td>160469.406049</td><td>64040.201139</td></tr><tr><td>1013597082</td><td>&quot;RCP2.6&quot;</td><td>651637.894915</td><td>245753.470403</td><td>849792.295741</td><td>319050.500293</td><td>1.4212e7</td><td>5.5002e6</td></tr><tr><td>1008761858</td><td>&quot;RCP2.6&quot;</td><td>5.0391e6</td><td>1.7297e6</td><td>9.6672e6</td><td>3.3965e6</td><td>4.6457e7</td><td>1.6374e7</td></tr><tr><td>1008753324</td><td>&quot;RCP2.6&quot;</td><td>1.4889e6</td><td>574512.618326</td><td>3.2915e6</td><td>1.2801e6</td><td>4.9364e7</td><td>1.9443e7</td></tr><tr><td>1144481990</td><td>&quot;RCP2.6&quot;</td><td>3.9062e6</td><td>1.4044e6</td><td>1.7008e7</td><td>6.7718e6</td><td>1.5527e8</td><td>6.1950e7</td></tr></tbody></table></div>"
      ],
      "text/plain": [
       "shape: (5_031, 8)\n",
       "┌────────────┬──────────────┬───────────────┬──────────────┬──────────────┬──────────────┬──────────────┬──────────────┐\n",
       "│ entity_id  ┆ rcp_scenario ┆ expected_indi ┆ expected_ind ┆ expected_rev ┆ expected_rev ┆ expected_ass ┆ expected_ass │\n",
       "│ ---        ┆ ---          ┆ rect_loss_amo ┆ irect_loss_a ┆ enue_loss_am ┆ enue_loss_am ┆ et_damage_lo ┆ et_damage_lo │\n",
       "│ i64        ┆ str          ┆ unt_…         ┆ mount_…      ┆ ount_c…      ┆ ount_c…      ┆ ss_amo…      ┆ ss_amo…      │\n",
       "│            ┆              ┆ ---           ┆ ---          ┆ ---          ┆ ---          ┆ ---          ┆ ---          │\n",
       "│            ┆              ┆ f64           ┆ f64          ┆ f64          ┆ f64          ┆ f64          ┆ f64          │\n",
       "╞════════════╪══════════════╪═══════════════╪══════════════╪══════════════╪══════════════╪══════════════╪══════════════╡\n",
       "│ 1012371436 ┆ RCP2.6       ┆ 4.1773e7      ┆ 1.5476e7     ┆ 5.7988e7     ┆ 2.0599e7     ┆ 9.6610e7     ┆ 3.6363e7     │\n",
       "│ 1008758403 ┆ RCP2.6       ┆ 3.9306e6      ┆ 1.5733e6     ┆ 1.6227e7     ┆ 6.3514e6     ┆ 3.0494e7     ┆ 1.2258e7     │\n",
       "│ 2000160058 ┆ RCP2.6       ┆ 2.4831e7      ┆ 9.1064e6     ┆ 4.5834e7     ┆ 1.7241e7     ┆ 7.6328e7     ┆ 2.8664e7     │\n",
       "│ 1016789142 ┆ RCP2.6       ┆ 1.1195e7      ┆ 4.3829e6     ┆ 6.2842e7     ┆ 2.5353e7     ┆ 4.2292e7     ┆ 1.7011e7     │\n",
       "│ 1016057001 ┆ RCP2.6       ┆ 9.3272e6      ┆ 3.5576e6     ┆ 1.4915e7     ┆ 5.6449e6     ┆ 4.4717e7     ┆ 1.7281e7     │\n",
       "│ …          ┆ …            ┆ …             ┆ …            ┆ …            ┆ …            ┆ …            ┆ …            │\n",
       "│ 1008755869 ┆ RCP2.6       ┆ 303696.864941 ┆ 112432.98222 ┆ 1.1176e6     ┆ 430943.46330 ┆ 160469.40604 ┆ 64040.201139 │\n",
       "│            ┆              ┆               ┆ 6            ┆              ┆ 4            ┆ 9            ┆              │\n",
       "│ 1013597082 ┆ RCP2.6       ┆ 651637.894915 ┆ 245753.47040 ┆ 849792.29574 ┆ 319050.50029 ┆ 1.4212e7     ┆ 5.5002e6     │\n",
       "│            ┆              ┆               ┆ 3            ┆ 1            ┆ 3            ┆              ┆              │\n",
       "│ 1008761858 ┆ RCP2.6       ┆ 5.0391e6      ┆ 1.7297e6     ┆ 9.6672e6     ┆ 3.3965e6     ┆ 4.6457e7     ┆ 1.6374e7     │\n",
       "│ 1008753324 ┆ RCP2.6       ┆ 1.4889e6      ┆ 574512.61832 ┆ 3.2915e6     ┆ 1.2801e6     ┆ 4.9364e7     ┆ 1.9443e7     │\n",
       "│            ┆              ┆               ┆ 6            ┆              ┆              ┆              ┆              │\n",
       "│ 1144481990 ┆ RCP2.6       ┆ 3.9062e6      ┆ 1.4044e6     ┆ 1.7008e7     ┆ 6.7718e6     ┆ 1.5527e8     ┆ 6.1950e7     │\n",
       "└────────────┴──────────────┴───────────────┴──────────────┴──────────────┴──────────────┴──────────────┴──────────────┘"
      ]
     },
     "execution_count": 10,
     "metadata": {},
     "output_type": "execute_result"
    }
   ],
   "source": [
    "exposure_agg_df = damage_full.group_by(['entity_id', 'rcp_scenario']).agg(\n",
    "    expected_indirect_loss_amount_cumulative_undiscounted=pl.col('expected_indirect_loss_amount_series_undiscounted').sum(),\n",
    "    expected_indirect_loss_amount_cumulative_discounted=pl.col('expected_indirect_loss_amount_series_discounted').sum(),\n",
    "    expected_revenue_loss_amount_cumulative_undiscounted=pl.col('expected_revenue_loss_amount_series_undiscounted').sum(),\n",
    "    expected_revenue_loss_amount_cumulative_discounted=pl.col('expected_revenue_loss_amount_series_discounted').sum(),\n",
    "    expected_asset_damage_loss_amount_cumulative_undiscounted=pl.col('expected_asset_damage_loss_amount_series_undiscounted').sum(),\n",
    "    expected_asset_damage_loss_amount_cumulative_discounted=pl.col('expected_asset_damage_loss_amount_series_discounted').sum()\n",
    ")\n",
    "exposure_agg_df"
   ]
  },
  {
   "cell_type": "code",
   "execution_count": 11,
   "id": "a43fb888-04cd-4c39-a536-27ba4d8d85c5",
   "metadata": {
    "scrolled": true
   },
   "outputs": [
    {
     "data": {
      "text/html": [
       "<div><style>\n",
       ".dataframe > thead > tr,\n",
       ".dataframe > tbody > tr {\n",
       "  text-align: right;\n",
       "  white-space: pre-wrap;\n",
       "}\n",
       "</style>\n",
       "<small>shape: (11_157, 2)</small><table border=\"1\" class=\"dataframe\"><thead><tr><th>entity_id</th><th>clientindustryid</th></tr><tr><td>i64</td><td>i64</td></tr></thead><tbody><tr><td>2006146113</td><td>451050</td></tr><tr><td>2003888171</td><td>402047</td></tr><tr><td>1008159611</td><td>403048</td></tr><tr><td>1008204897</td><td>601049</td></tr><tr><td>2007748991</td><td>451050</td></tr><tr><td>&hellip;</td><td>&hellip;</td></tr><tr><td>1008761183</td><td>201025</td></tr><tr><td>1007910068</td><td>352045</td></tr><tr><td>2007110142</td><td>402047</td></tr><tr><td>2001246461</td><td>351044</td></tr><tr><td>2004570959</td><td>101013</td></tr></tbody></table></div>"
      ],
      "text/plain": [
       "shape: (11_157, 2)\n",
       "┌────────────┬──────────────────┐\n",
       "│ entity_id  ┆ clientindustryid │\n",
       "│ ---        ┆ ---              │\n",
       "│ i64        ┆ i64              │\n",
       "╞════════════╪══════════════════╡\n",
       "│ 2006146113 ┆ 451050           │\n",
       "│ 2003888171 ┆ 402047           │\n",
       "│ 1008159611 ┆ 403048           │\n",
       "│ 1008204897 ┆ 601049           │\n",
       "│ 2007748991 ┆ 451050           │\n",
       "│ …          ┆ …                │\n",
       "│ 1008761183 ┆ 201025           │\n",
       "│ 1007910068 ┆ 352045           │\n",
       "│ 2007110142 ┆ 402047           │\n",
       "│ 2001246461 ┆ 351044           │\n",
       "│ 2004570959 ┆ 101013           │\n",
       "└────────────┴──────────────────┘"
      ]
     },
     "execution_count": 11,
     "metadata": {},
     "output_type": "execute_result"
    }
   ],
   "source": [
    "industry_company_df = pl.read_csv('C:/Users/jkumava/Downloads/PCRM/industry_company_202407171650.csv')\n",
    "industry_company_df = industry_company_df.rename({'entityid': 'entity_id'} )\n",
    "industry_company_df"
   ]
  },
  {
   "cell_type": "code",
   "execution_count": 12,
   "id": "9790b69f-20b7-45d6-a4cb-f051bd670a71",
   "metadata": {
    "scrolled": true
   },
   "outputs": [
    {
     "data": {
      "text/html": [
       "<div><style>\n",
       ".dataframe > thead > tr,\n",
       ".dataframe > tbody > tr {\n",
       "  text-align: right;\n",
       "  white-space: pre-wrap;\n",
       "}\n",
       "</style>\n",
       "<small>shape: (5_031, 21)</small><table border=\"1\" class=\"dataframe\"><thead><tr><th>entity_id</th><th>rcp_scenario</th><th>expected_indirect_loss_amount_cumulative_undiscounted</th><th>expected_indirect_loss_amount_cumulative_discounted</th><th>expected_revenue_loss_amount_cumulative_undiscounted</th><th>expected_revenue_loss_amount_cumulative_discounted</th><th>expected_asset_damage_loss_amount_cumulative_undiscounted</th><th>expected_asset_damage_loss_amount_cumulative_discounted</th><th>cash_flow_series_cumulative_discounted</th><th>cash_flow_series_cumulative_undiscounted</th><th>clientindustryid</th><th>expected_direct_damage_loss_amount_cumulative_undiscounted</th><th>expected_total_loss_amount_cumulative_undiscounted</th><th>indirect_loss_ratio_undiscounted</th><th>direct_loss_ratio_undiscounted</th><th>total_loss_ratio_undiscounted</th><th>expected_direct_damage_loss_amount_cumulative_discounted</th><th>expected_total_loss_amount_cumulative_discounted</th><th>indirect_loss_ratio_discounted</th><th>direct_loss_ratio_discounted</th><th>total_loss_ratio_discounted</th></tr><tr><td>i64</td><td>str</td><td>f64</td><td>f64</td><td>f64</td><td>f64</td><td>f64</td><td>f64</td><td>f64</td><td>f64</td><td>i64</td><td>f64</td><td>f64</td><td>f64</td><td>f64</td><td>f64</td><td>f64</td><td>f64</td><td>f64</td><td>f64</td><td>f64</td></tr></thead><tbody><tr><td>2006146113</td><td>&quot;RCP2.6&quot;</td><td>153897.616615</td><td>61166.587834</td><td>6647.278731</td><td>2679.201901</td><td>30172.599244</td><td>12223.237442</td><td>5.9855e8</td><td>1.3808e9</td><td>451050</td><td>36819.877976</td><td>190717.494591</td><td>0.000111</td><td>0.000027</td><td>0.000138</td><td>14902.439343</td><td>76069.027177</td><td>0.000102</td><td>0.000025</td><td>0.000127</td></tr><tr><td>2007748991</td><td>&quot;RCP2.6&quot;</td><td>4.0713e6</td><td>1.5137e6</td><td>1.8410e7</td><td>7.0228e6</td><td>4.6600e6</td><td>1.8147e6</td><td>3.7711e9</td><td>8.6999e9</td><td>451050</td><td>2.3070e7</td><td>2.7141e7</td><td>0.000468</td><td>0.002652</td><td>0.00312</td><td>8.8375e6</td><td>1.0351e7</td><td>0.000401</td><td>0.002343</td><td>0.002745</td></tr><tr><td>2000219494</td><td>&quot;RCP2.6&quot;</td><td>1.0644e7</td><td>4.0284e6</td><td>5.6265e7</td><td>2.1638e7</td><td>304985.747078</td><td>122007.876358</td><td>2.4779e9</td><td>5.7165e9</td><td>254039</td><td>5.6570e7</td><td>6.7214e7</td><td>0.001862</td><td>0.009896</td><td>0.011758</td><td>2.1760e7</td><td>2.5788e7</td><td>0.001626</td><td>0.008781</td><td>0.010407</td></tr><tr><td>1008243682</td><td>&quot;RCP2.6&quot;</td><td>1.2927e8</td><td>4.8598e7</td><td>4.0181e8</td><td>1.5205e8</td><td>1.4896e8</td><td>5.8016e7</td><td>1.7051e10</td><td>3.9336e10</td><td>255040</td><td>5.5077e8</td><td>6.8004e8</td><td>0.003286</td><td>0.014002</td><td>0.017288</td><td>2.1007e8</td><td>2.5867e8</td><td>0.00285</td><td>0.01232</td><td>0.01517</td></tr><tr><td>1008754510</td><td>&quot;RCP2.6&quot;</td><td>2.7884e7</td><td>1.0554e7</td><td>8.5092e7</td><td>3.2128e7</td><td>5.5351e8</td><td>2.1826e8</td><td>2.3578e10</td><td>5.4393e10</td><td>501053</td><td>6.3860e8</td><td>6.6649e8</td><td>0.000513</td><td>0.01174</td><td>0.012253</td><td>2.5039e8</td><td>2.6094e8</td><td>0.000448</td><td>0.01062</td><td>0.011067</td></tr><tr><td>&hellip;</td><td>&hellip;</td><td>&hellip;</td><td>&hellip;</td><td>&hellip;</td><td>&hellip;</td><td>&hellip;</td><td>&hellip;</td><td>&hellip;</td><td>&hellip;</td><td>&hellip;</td><td>&hellip;</td><td>&hellip;</td><td>&hellip;</td><td>&hellip;</td><td>&hellip;</td><td>&hellip;</td><td>&hellip;</td><td>&hellip;</td><td>&hellip;</td><td>&hellip;</td></tr><tr><td>2006980355</td><td>&quot;RCP2.6&quot;</td><td>2.4281e8</td><td>9.2077e7</td><td>6.2070e8</td><td>2.3603e8</td><td>1.3181e8</td><td>4.9950e7</td><td>1.9211e10</td><td>4.4318e10</td><td>201028</td><td>7.5251e8</td><td>9.9532e8</td><td>0.005479</td><td>0.01698</td><td>0.022459</td><td>2.8598e8</td><td>3.7806e8</td><td>0.004793</td><td>0.014887</td><td>0.01968</td></tr><tr><td>1030215664</td><td>&quot;RCP2.6&quot;</td><td>1.0065e7</td><td>3.8230e6</td><td>5.3272e7</td><td>2.0544e7</td><td>1.1577e7</td><td>4.5569e6</td><td>4.2687e9</td><td>9.8477e9</td><td>252036</td><td>6.4848e7</td><td>7.4913e7</td><td>0.001022</td><td>0.006585</td><td>0.007607</td><td>2.5101e7</td><td>2.8924e7</td><td>0.000896</td><td>0.00588</td><td>0.006776</td></tr><tr><td>1008759007</td><td>&quot;RCP2.6&quot;</td><td>2.4864e7</td><td>8.9679e6</td><td>3.6339e7</td><td>1.3585e7</td><td>2.8492e7</td><td>1.0498e7</td><td>9.0695e8</td><td>2.0923e9</td><td>151015</td><td>6.4831e7</td><td>8.9695e7</td><td>0.011883</td><td>0.030985</td><td>0.042869</td><td>2.4083e7</td><td>3.3051e7</td><td>0.009888</td><td>0.026554</td><td>0.036442</td></tr><tr><td>1008761183</td><td>&quot;RCP2.6&quot;</td><td>2.4289e8</td><td>8.7706e7</td><td>4.7582e8</td><td>1.7704e8</td><td>3.6997e8</td><td>1.3445e8</td><td>1.8844e10</td><td>4.3472e10</td><td>201025</td><td>8.4579e8</td><td>1.0887e9</td><td>0.005587</td><td>0.019456</td><td>0.025043</td><td>3.1149e8</td><td>3.9920e8</td><td>0.004654</td><td>0.01653</td><td>0.021185</td></tr><tr><td>1007910068</td><td>&quot;RCP2.6&quot;</td><td>1.5548e6</td><td>610821.699184</td><td>7.4414e6</td><td>2.7720e6</td><td>1.2459e6</td><td>500606.454036</td><td>-1.7216e8</td><td>-3.9718e8</td><td>352045</td><td>8.6872e6</td><td>1.0242e7</td><td>-0.003915</td><td>-0.021872</td><td>-0.025787</td><td>3.2726e6</td><td>3.8835e6</td><td>-0.003548</td><td>-0.019009</td><td>-0.022557</td></tr></tbody></table></div>"
      ],
      "text/plain": [
       "shape: (5_031, 21)\n",
       "┌────────────┬──────────────┬──────────────┬──────────────┬───┬──────────────┬─────────────┬─────────────┬─────────────┐\n",
       "│ entity_id  ┆ rcp_scenario ┆ expected_ind ┆ expected_ind ┆ … ┆ expected_tot ┆ indirect_lo ┆ direct_loss ┆ total_loss_ │\n",
       "│ ---        ┆ ---          ┆ irect_loss_a ┆ irect_loss_a ┆   ┆ al_loss_amou ┆ ss_ratio_di ┆ _ratio_disc ┆ ratio_disco │\n",
       "│ i64        ┆ str          ┆ mount_…      ┆ mount_…      ┆   ┆ nt_cum…      ┆ scounted    ┆ ounted      ┆ unted       │\n",
       "│            ┆              ┆ ---          ┆ ---          ┆   ┆ ---          ┆ ---         ┆ ---         ┆ ---         │\n",
       "│            ┆              ┆ f64          ┆ f64          ┆   ┆ f64          ┆ f64         ┆ f64         ┆ f64         │\n",
       "╞════════════╪══════════════╪══════════════╪══════════════╪═══╪══════════════╪═════════════╪═════════════╪═════════════╡\n",
       "│ 2006146113 ┆ RCP2.6       ┆ 153897.61661 ┆ 61166.587834 ┆ … ┆ 76069.027177 ┆ 0.000102    ┆ 0.000025    ┆ 0.000127    │\n",
       "│            ┆              ┆ 5            ┆              ┆   ┆              ┆             ┆             ┆             │\n",
       "│ 2007748991 ┆ RCP2.6       ┆ 4.0713e6     ┆ 1.5137e6     ┆ … ┆ 1.0351e7     ┆ 0.000401    ┆ 0.002343    ┆ 0.002745    │\n",
       "│ 2000219494 ┆ RCP2.6       ┆ 1.0644e7     ┆ 4.0284e6     ┆ … ┆ 2.5788e7     ┆ 0.001626    ┆ 0.008781    ┆ 0.010407    │\n",
       "│ 1008243682 ┆ RCP2.6       ┆ 1.2927e8     ┆ 4.8598e7     ┆ … ┆ 2.5867e8     ┆ 0.00285     ┆ 0.01232     ┆ 0.01517     │\n",
       "│ 1008754510 ┆ RCP2.6       ┆ 2.7884e7     ┆ 1.0554e7     ┆ … ┆ 2.6094e8     ┆ 0.000448    ┆ 0.01062     ┆ 0.011067    │\n",
       "│ …          ┆ …            ┆ …            ┆ …            ┆ … ┆ …            ┆ …           ┆ …           ┆ …           │\n",
       "│ 2006980355 ┆ RCP2.6       ┆ 2.4281e8     ┆ 9.2077e7     ┆ … ┆ 3.7806e8     ┆ 0.004793    ┆ 0.014887    ┆ 0.01968     │\n",
       "│ 1030215664 ┆ RCP2.6       ┆ 1.0065e7     ┆ 3.8230e6     ┆ … ┆ 2.8924e7     ┆ 0.000896    ┆ 0.00588     ┆ 0.006776    │\n",
       "│ 1008759007 ┆ RCP2.6       ┆ 2.4864e7     ┆ 8.9679e6     ┆ … ┆ 3.3051e7     ┆ 0.009888    ┆ 0.026554    ┆ 0.036442    │\n",
       "│ 1008761183 ┆ RCP2.6       ┆ 2.4289e8     ┆ 8.7706e7     ┆ … ┆ 3.9920e8     ┆ 0.004654    ┆ 0.01653     ┆ 0.021185    │\n",
       "│ 1007910068 ┆ RCP2.6       ┆ 1.5548e6     ┆ 610821.69918 ┆ … ┆ 3.8835e6     ┆ -0.003548   ┆ -0.019009   ┆ -0.022557   │\n",
       "│            ┆              ┆              ┆ 4            ┆   ┆              ┆             ┆             ┆             │\n",
       "└────────────┴──────────────┴──────────────┴──────────────┴───┴──────────────┴─────────────┴─────────────┴─────────────┘"
      ]
     },
     "execution_count": 12,
     "metadata": {},
     "output_type": "execute_result"
    }
   ],
   "source": [
    "exposure_datapoints_df = exposure_agg_df\\\n",
    "    .join(cash_flow_df.select(['entity_id', 'cash_flow_series_cumulative_discounted', 'cash_flow_series_cumulative_undiscounted']), on='entity_id')\\\n",
    "    .join(industry_company_df, on='entity_id')\n",
    "exposure_datapoints_df = exposure_datapoints_df\\\n",
    "    .with_columns((pl.col('expected_revenue_loss_amount_cumulative_undiscounted') +\n",
    "        pl.col('expected_asset_damage_loss_amount_cumulative_undiscounted')).alias('expected_direct_damage_loss_amount_cumulative_undiscounted')\n",
    "    )\\\n",
    "    .with_columns((\n",
    "        pl.col('expected_direct_damage_loss_amount_cumulative_undiscounted') +\n",
    "        pl.col('expected_indirect_loss_amount_cumulative_undiscounted')).alias('expected_total_loss_amount_cumulative_undiscounted')\n",
    ")\\\n",
    ".with_columns(\n",
    "        indirect_loss_ratio_undiscounted = \\\n",
    "        pl.col('expected_indirect_loss_amount_cumulative_undiscounted') /\n",
    "        pl.when(pl.col('cash_flow_series_cumulative_undiscounted') == 0).then(pl.lit(None))\\\n",
    "          .otherwise(pl.col('cash_flow_series_cumulative_undiscounted')),\n",
    "direct_loss_ratio_undiscounted=\n",
    "        (pl.col('expected_direct_damage_loss_amount_cumulative_undiscounted') /\n",
    "         pl.when(pl.col('cash_flow_series_cumulative_undiscounted') == 0).then(pl.lit(None))\\\n",
    "           .otherwise(pl.col('cash_flow_series_cumulative_undiscounted'))))\\\n",
    ".with_columns(\n",
    "total_loss_ratio_undiscounted = (pl.col('indirect_loss_ratio_undiscounted') +\n",
    "        pl.col('direct_loss_ratio_undiscounted')),\n",
    "    expected_direct_damage_loss_amount_cumulative_discounted=(\n",
    "        pl.col('expected_revenue_loss_amount_cumulative_discounted') +\n",
    "        pl.col('expected_asset_damage_loss_amount_cumulative_discounted')))\\\n",
    ".with_columns(\n",
    "    expected_total_loss_amount_cumulative_discounted = (\n",
    "pl.col('expected_direct_damage_loss_amount_cumulative_discounted') +\n",
    "        pl.col('expected_indirect_loss_amount_cumulative_discounted')\n",
    "    ),\n",
    "    indirect_loss_ratio_discounted = pl.col('expected_indirect_loss_amount_cumulative_discounted') /\n",
    "        (pl.when(pl.col('cash_flow_series_cumulative_discounted') == 0).then(pl.lit(None))\\\n",
    "          .otherwise(pl.col('cash_flow_series_cumulative_discounted'))\n",
    "    ),\n",
    "direct_loss_ratio_discounted = pl.col('expected_direct_damage_loss_amount_cumulative_discounted') /\n",
    "        (pl.when(pl.col('cash_flow_series_cumulative_discounted') == 0).then( pl.lit(None))\\\n",
    "          .otherwise(pl.col('cash_flow_series_cumulative_discounted')))\n",
    ")\\\n",
    ".with_columns(\n",
    "total_loss_ratio_discounted = (pl.col('indirect_loss_ratio_discounted') +\n",
    "        pl.col('direct_loss_ratio_discounted')))\n",
    "\n",
    "exposure_datapoints_df"
   ]
  },
  {
   "cell_type": "code",
   "execution_count": 13,
   "id": "e779778a-ac4b-4eb0-872d-75de6d4b2db9",
   "metadata": {
    "scrolled": true
   },
   "outputs": [
    {
     "data": {
      "text/html": [
       "<div><style>\n",
       ".dataframe > thead > tr,\n",
       ".dataframe > tbody > tr {\n",
       "  text-align: right;\n",
       "  white-space: pre-wrap;\n",
       "}\n",
       "</style>\n",
       "<small>shape: (4_835, 9)</small><table border=\"1\" class=\"dataframe\"><thead><tr><th>entity_id</th><th>rcp_scenario</th><th>clientindustryid</th><th>total_loss_ratio_discounted</th><th>indirect_loss_ratio_discounted</th><th>direct_loss_ratio_discounted</th><th>max_total_loss_ratio_discounted</th><th>max_indirect_loss_ratio_discounted</th><th>max_direct_loss_ratio_discounted</th></tr><tr><td>i64</td><td>str</td><td>i64</td><td>f64</td><td>f64</td><td>f64</td><td>f64</td><td>f64</td><td>f64</td></tr></thead><tbody><tr><td>2006146113</td><td>&quot;RCP2.6&quot;</td><td>451050</td><td>0.000127</td><td>0.000102</td><td>0.000025</td><td>100.572698</td><td>6.132625</td><td>94.440072</td></tr><tr><td>2007748991</td><td>&quot;RCP2.6&quot;</td><td>451050</td><td>0.002745</td><td>0.000401</td><td>0.002343</td><td>100.572698</td><td>6.132625</td><td>94.440072</td></tr><tr><td>2000219494</td><td>&quot;RCP2.6&quot;</td><td>254039</td><td>0.010407</td><td>0.001626</td><td>0.008781</td><td>100.572698</td><td>6.132625</td><td>94.440072</td></tr><tr><td>1008243682</td><td>&quot;RCP2.6&quot;</td><td>255040</td><td>0.01517</td><td>0.00285</td><td>0.01232</td><td>100.572698</td><td>6.132625</td><td>94.440072</td></tr><tr><td>1008754510</td><td>&quot;RCP2.6&quot;</td><td>501053</td><td>0.011067</td><td>0.000448</td><td>0.01062</td><td>100.572698</td><td>6.132625</td><td>94.440072</td></tr><tr><td>&hellip;</td><td>&hellip;</td><td>&hellip;</td><td>&hellip;</td><td>&hellip;</td><td>&hellip;</td><td>&hellip;</td><td>&hellip;</td><td>&hellip;</td></tr><tr><td>2006980355</td><td>&quot;RCP2.6&quot;</td><td>201028</td><td>0.01968</td><td>0.004793</td><td>0.014887</td><td>100.572698</td><td>6.132625</td><td>94.440072</td></tr><tr><td>1030215664</td><td>&quot;RCP2.6&quot;</td><td>252036</td><td>0.006776</td><td>0.000896</td><td>0.00588</td><td>100.572698</td><td>6.132625</td><td>94.440072</td></tr><tr><td>1008759007</td><td>&quot;RCP2.6&quot;</td><td>151015</td><td>0.036442</td><td>0.009888</td><td>0.026554</td><td>100.572698</td><td>6.132625</td><td>94.440072</td></tr><tr><td>1008761183</td><td>&quot;RCP2.6&quot;</td><td>201025</td><td>0.021185</td><td>0.004654</td><td>0.01653</td><td>100.572698</td><td>6.132625</td><td>94.440072</td></tr><tr><td>1007910068</td><td>&quot;RCP2.6&quot;</td><td>352045</td><td>-0.022557</td><td>-0.003548</td><td>-0.019009</td><td>100.572698</td><td>6.132625</td><td>94.440072</td></tr></tbody></table></div>"
      ],
      "text/plain": [
       "shape: (4_835, 9)\n",
       "┌────────────┬──────────────┬──────────────┬──────────────┬───┬──────────────┬─────────────┬─────────────┬─────────────┐\n",
       "│ entity_id  ┆ rcp_scenario ┆ clientindust ┆ total_loss_r ┆ … ┆ direct_loss_ ┆ max_total_l ┆ max_indirec ┆ max_direct_ │\n",
       "│ ---        ┆ ---          ┆ ryid         ┆ atio_discoun ┆   ┆ ratio_discou ┆ oss_ratio_d ┆ t_loss_rati ┆ loss_ratio_ │\n",
       "│ i64        ┆ str          ┆ ---          ┆ ted          ┆   ┆ nted         ┆ iscounte…   ┆ o_discou…   ┆ discount…   │\n",
       "│            ┆              ┆ i64          ┆ ---          ┆   ┆ ---          ┆ ---         ┆ ---         ┆ ---         │\n",
       "│            ┆              ┆              ┆ f64          ┆   ┆ f64          ┆ f64         ┆ f64         ┆ f64         │\n",
       "╞════════════╪══════════════╪══════════════╪══════════════╪═══╪══════════════╪═════════════╪═════════════╪═════════════╡\n",
       "│ 2006146113 ┆ RCP2.6       ┆ 451050       ┆ 0.000127     ┆ … ┆ 0.000025     ┆ 100.572698  ┆ 6.132625    ┆ 94.440072   │\n",
       "│ 2007748991 ┆ RCP2.6       ┆ 451050       ┆ 0.002745     ┆ … ┆ 0.002343     ┆ 100.572698  ┆ 6.132625    ┆ 94.440072   │\n",
       "│ 2000219494 ┆ RCP2.6       ┆ 254039       ┆ 0.010407     ┆ … ┆ 0.008781     ┆ 100.572698  ┆ 6.132625    ┆ 94.440072   │\n",
       "│ 1008243682 ┆ RCP2.6       ┆ 255040       ┆ 0.01517      ┆ … ┆ 0.01232      ┆ 100.572698  ┆ 6.132625    ┆ 94.440072   │\n",
       "│ 1008754510 ┆ RCP2.6       ┆ 501053       ┆ 0.011067     ┆ … ┆ 0.01062      ┆ 100.572698  ┆ 6.132625    ┆ 94.440072   │\n",
       "│ …          ┆ …            ┆ …            ┆ …            ┆ … ┆ …            ┆ …           ┆ …           ┆ …           │\n",
       "│ 2006980355 ┆ RCP2.6       ┆ 201028       ┆ 0.01968      ┆ … ┆ 0.014887     ┆ 100.572698  ┆ 6.132625    ┆ 94.440072   │\n",
       "│ 1030215664 ┆ RCP2.6       ┆ 252036       ┆ 0.006776     ┆ … ┆ 0.00588      ┆ 100.572698  ┆ 6.132625    ┆ 94.440072   │\n",
       "│ 1008759007 ┆ RCP2.6       ┆ 151015       ┆ 0.036442     ┆ … ┆ 0.026554     ┆ 100.572698  ┆ 6.132625    ┆ 94.440072   │\n",
       "│ 1008761183 ┆ RCP2.6       ┆ 201025       ┆ 0.021185     ┆ … ┆ 0.01653      ┆ 100.572698  ┆ 6.132625    ┆ 94.440072   │\n",
       "│ 1007910068 ┆ RCP2.6       ┆ 352045       ┆ -0.022557    ┆ … ┆ -0.019009    ┆ 100.572698  ┆ 6.132625    ┆ 94.440072   │\n",
       "└────────────┴──────────────┴──────────────┴──────────────┴───┴──────────────┴─────────────┴─────────────┴─────────────┘"
      ]
     },
     "execution_count": 13,
     "metadata": {},
     "output_type": "execute_result"
    }
   ],
   "source": [
    "filtered_df = exposure_datapoints_df.filter(pl.col('total_loss_ratio_undiscounted').is_not_null())\n",
    "\n",
    "max_df = filtered_df.group_by('rcp_scenario').agg(\n",
    "    max_total_loss_ratio_discounted = pl.col('total_loss_ratio_discounted').max(),\n",
    "    max_indirect_loss_ratio_discounted = pl.col('indirect_loss_ratio_discounted').max(),\n",
    "    max_direct_loss_ratio_discounted = pl.col('direct_loss_ratio_discounted').max()\n",
    ")\n",
    "\n",
    "max_values = filtered_df.join(max_df, on='rcp_scenario', how='inner')\n",
    "\n",
    "# Selecting required columns\n",
    "max_values = max_values[\n",
    "    'entity_id',\n",
    "    'rcp_scenario',\n",
    "    'clientindustryid',\n",
    "    'total_loss_ratio_discounted',\n",
    "    'indirect_loss_ratio_discounted',\n",
    "    'direct_loss_ratio_discounted',\n",
    "    'max_total_loss_ratio_discounted',\n",
    "    'max_indirect_loss_ratio_discounted',\n",
    "    'max_direct_loss_ratio_discounted'\n",
    "]\n",
    "max_values"
   ]
  },
  {
   "cell_type": "code",
   "execution_count": 14,
   "id": "9738d09e-4245-4365-a48e-877a6f89273b",
   "metadata": {},
   "outputs": [
    {
     "data": {
      "text/html": [
       "<div><style>\n",
       ".dataframe > thead > tr,\n",
       ".dataframe > tbody > tr {\n",
       "  text-align: right;\n",
       "  white-space: pre-wrap;\n",
       "}\n",
       "</style>\n",
       "<small>shape: (4_835, 12)</small><table border=\"1\" class=\"dataframe\"><thead><tr><th>entity_id</th><th>rcp_scenario</th><th>clientindustryid</th><th>total_loss_ratio_discounted</th><th>indirect_loss_ratio_discounted</th><th>direct_loss_ratio_discounted</th><th>max_total_loss_ratio_discounted</th><th>max_indirect_loss_ratio_discounted</th><th>max_direct_loss_ratio_discounted</th><th>adjusted_total_loss_ratio_discounted</th><th>adjusted_direct_loss_ratio_discounted</th><th>adjusted_indirect_loss_ratio_discounted</th></tr><tr><td>i64</td><td>str</td><td>i64</td><td>f64</td><td>f64</td><td>f64</td><td>f64</td><td>f64</td><td>f64</td><td>f64</td><td>f64</td><td>f64</td></tr></thead><tbody><tr><td>2006146113</td><td>&quot;RCP2.6&quot;</td><td>451050</td><td>0.000127</td><td>0.000102</td><td>0.000025</td><td>100.572698</td><td>6.132625</td><td>94.440072</td><td>0.000127</td><td>0.000025</td><td>0.000102</td></tr><tr><td>2007748991</td><td>&quot;RCP2.6&quot;</td><td>451050</td><td>0.002745</td><td>0.000401</td><td>0.002343</td><td>100.572698</td><td>6.132625</td><td>94.440072</td><td>0.002745</td><td>0.002343</td><td>0.000401</td></tr><tr><td>2000219494</td><td>&quot;RCP2.6&quot;</td><td>254039</td><td>0.010407</td><td>0.001626</td><td>0.008781</td><td>100.572698</td><td>6.132625</td><td>94.440072</td><td>0.010407</td><td>0.008781</td><td>0.001626</td></tr><tr><td>1008243682</td><td>&quot;RCP2.6&quot;</td><td>255040</td><td>0.01517</td><td>0.00285</td><td>0.01232</td><td>100.572698</td><td>6.132625</td><td>94.440072</td><td>0.01517</td><td>0.01232</td><td>0.00285</td></tr><tr><td>1008754510</td><td>&quot;RCP2.6&quot;</td><td>501053</td><td>0.011067</td><td>0.000448</td><td>0.01062</td><td>100.572698</td><td>6.132625</td><td>94.440072</td><td>0.011067</td><td>0.01062</td><td>0.000448</td></tr><tr><td>&hellip;</td><td>&hellip;</td><td>&hellip;</td><td>&hellip;</td><td>&hellip;</td><td>&hellip;</td><td>&hellip;</td><td>&hellip;</td><td>&hellip;</td><td>&hellip;</td><td>&hellip;</td><td>&hellip;</td></tr><tr><td>2006980355</td><td>&quot;RCP2.6&quot;</td><td>201028</td><td>0.01968</td><td>0.004793</td><td>0.014887</td><td>100.572698</td><td>6.132625</td><td>94.440072</td><td>0.01968</td><td>0.014887</td><td>0.004793</td></tr><tr><td>1030215664</td><td>&quot;RCP2.6&quot;</td><td>252036</td><td>0.006776</td><td>0.000896</td><td>0.00588</td><td>100.572698</td><td>6.132625</td><td>94.440072</td><td>0.006776</td><td>0.00588</td><td>0.000896</td></tr><tr><td>1008759007</td><td>&quot;RCP2.6&quot;</td><td>151015</td><td>0.036442</td><td>0.009888</td><td>0.026554</td><td>100.572698</td><td>6.132625</td><td>94.440072</td><td>0.036442</td><td>0.026554</td><td>0.009888</td></tr><tr><td>1008761183</td><td>&quot;RCP2.6&quot;</td><td>201025</td><td>0.021185</td><td>0.004654</td><td>0.01653</td><td>100.572698</td><td>6.132625</td><td>94.440072</td><td>0.021185</td><td>0.01653</td><td>0.004654</td></tr><tr><td>1007910068</td><td>&quot;RCP2.6&quot;</td><td>352045</td><td>-0.022557</td><td>-0.003548</td><td>-0.019009</td><td>100.572698</td><td>6.132625</td><td>94.440072</td><td>100.595255</td><td>94.459081</td><td>6.136173</td></tr></tbody></table></div>"
      ],
      "text/plain": [
       "shape: (4_835, 12)\n",
       "┌────────────┬──────────────┬──────────────┬──────────────┬───┬──────────────┬─────────────┬─────────────┬─────────────┐\n",
       "│ entity_id  ┆ rcp_scenario ┆ clientindust ┆ total_loss_r ┆ … ┆ max_direct_l ┆ adjusted_to ┆ adjusted_di ┆ adjusted_in │\n",
       "│ ---        ┆ ---          ┆ ryid         ┆ atio_discoun ┆   ┆ oss_ratio_di ┆ tal_loss_ra ┆ rect_loss_r ┆ direct_loss │\n",
       "│ i64        ┆ str          ┆ ---          ┆ ted          ┆   ┆ scount…      ┆ tio_disc…   ┆ atio_dis…   ┆ _ratio_d…   │\n",
       "│            ┆              ┆ i64          ┆ ---          ┆   ┆ ---          ┆ ---         ┆ ---         ┆ ---         │\n",
       "│            ┆              ┆              ┆ f64          ┆   ┆ f64          ┆ f64         ┆ f64         ┆ f64         │\n",
       "╞════════════╪══════════════╪══════════════╪══════════════╪═══╪══════════════╪═════════════╪═════════════╪═════════════╡\n",
       "│ 2006146113 ┆ RCP2.6       ┆ 451050       ┆ 0.000127     ┆ … ┆ 94.440072    ┆ 0.000127    ┆ 0.000025    ┆ 0.000102    │\n",
       "│ 2007748991 ┆ RCP2.6       ┆ 451050       ┆ 0.002745     ┆ … ┆ 94.440072    ┆ 0.002745    ┆ 0.002343    ┆ 0.000401    │\n",
       "│ 2000219494 ┆ RCP2.6       ┆ 254039       ┆ 0.010407     ┆ … ┆ 94.440072    ┆ 0.010407    ┆ 0.008781    ┆ 0.001626    │\n",
       "│ 1008243682 ┆ RCP2.6       ┆ 255040       ┆ 0.01517      ┆ … ┆ 94.440072    ┆ 0.01517     ┆ 0.01232     ┆ 0.00285     │\n",
       "│ 1008754510 ┆ RCP2.6       ┆ 501053       ┆ 0.011067     ┆ … ┆ 94.440072    ┆ 0.011067    ┆ 0.01062     ┆ 0.000448    │\n",
       "│ …          ┆ …            ┆ …            ┆ …            ┆ … ┆ …            ┆ …           ┆ …           ┆ …           │\n",
       "│ 2006980355 ┆ RCP2.6       ┆ 201028       ┆ 0.01968      ┆ … ┆ 94.440072    ┆ 0.01968     ┆ 0.014887    ┆ 0.004793    │\n",
       "│ 1030215664 ┆ RCP2.6       ┆ 252036       ┆ 0.006776     ┆ … ┆ 94.440072    ┆ 0.006776    ┆ 0.00588     ┆ 0.000896    │\n",
       "│ 1008759007 ┆ RCP2.6       ┆ 151015       ┆ 0.036442     ┆ … ┆ 94.440072    ┆ 0.036442    ┆ 0.026554    ┆ 0.009888    │\n",
       "│ 1008761183 ┆ RCP2.6       ┆ 201025       ┆ 0.021185     ┆ … ┆ 94.440072    ┆ 0.021185    ┆ 0.01653     ┆ 0.004654    │\n",
       "│ 1007910068 ┆ RCP2.6       ┆ 352045       ┆ -0.022557    ┆ … ┆ 94.440072    ┆ 100.595255  ┆ 94.459081   ┆ 6.136173    │\n",
       "└────────────┴──────────────┴──────────────┴──────────────┴───┴──────────────┴─────────────┴─────────────┴─────────────┘"
      ]
     },
     "execution_count": 14,
     "metadata": {},
     "output_type": "execute_result"
    }
   ],
   "source": [
    "max_values = max_values.with_columns([\n",
    "    pl.when(pl.col('total_loss_ratio_discounted') < 0).then\\\n",
    "            (pl.col('max_total_loss_ratio_discounted') + abs(pl.col('total_loss_ratio_discounted')))\n",
    "    .otherwise(pl.col('total_loss_ratio_discounted')).alias('adjusted_total_loss_ratio_discounted'),\n",
    "    \n",
    "    pl.when(pl.col('direct_loss_ratio_discounted') < 0).then\\\n",
    "            (pl.col('max_direct_loss_ratio_discounted') + abs(pl.col('direct_loss_ratio_discounted')))\n",
    "    .otherwise(pl.col('direct_loss_ratio_discounted')).alias('adjusted_direct_loss_ratio_discounted'),\n",
    "    \n",
    "    pl.when(pl.col('indirect_loss_ratio_discounted') < 0).then\\\n",
    "            (pl.col('max_indirect_loss_ratio_discounted') + abs(pl.col('indirect_loss_ratio_discounted')))\n",
    "    .otherwise(pl.col('indirect_loss_ratio_discounted')).alias('adjusted_indirect_loss_ratio_discounted')\n",
    "])\n",
    "max_values"
   ]
  },
  {
   "cell_type": "code",
   "execution_count": 15,
   "id": "83bcee71-0684-435c-b197-f5020c779e4e",
   "metadata": {},
   "outputs": [
    {
     "data": {
      "text/plain": [
       "['entity_id',\n",
       " 'rcp_scenario',\n",
       " 'expected_indirect_loss_amount_cumulative_undiscounted',\n",
       " 'expected_indirect_loss_amount_cumulative_discounted',\n",
       " 'expected_revenue_loss_amount_cumulative_undiscounted',\n",
       " 'expected_revenue_loss_amount_cumulative_discounted',\n",
       " 'expected_asset_damage_loss_amount_cumulative_undiscounted',\n",
       " 'expected_asset_damage_loss_amount_cumulative_discounted',\n",
       " 'cash_flow_series_cumulative_discounted',\n",
       " 'cash_flow_series_cumulative_undiscounted',\n",
       " 'clientindustryid',\n",
       " 'expected_direct_damage_loss_amount_cumulative_undiscounted',\n",
       " 'expected_total_loss_amount_cumulative_undiscounted',\n",
       " 'indirect_loss_ratio_undiscounted',\n",
       " 'direct_loss_ratio_undiscounted',\n",
       " 'total_loss_ratio_undiscounted',\n",
       " 'expected_direct_damage_loss_amount_cumulative_discounted',\n",
       " 'expected_total_loss_amount_cumulative_discounted',\n",
       " 'indirect_loss_ratio_discounted',\n",
       " 'direct_loss_ratio_discounted',\n",
       " 'total_loss_ratio_discounted']"
      ]
     },
     "execution_count": 15,
     "metadata": {},
     "output_type": "execute_result"
    }
   ],
   "source": [
    "exposure_datapoints_df.columns"
   ]
  },
  {
   "cell_type": "code",
   "execution_count": 16,
   "id": "acfeb2a9-dbea-4536-ba85-5c12f06691c6",
   "metadata": {},
   "outputs": [
    {
     "data": {
      "text/plain": [
       "['entity_id',\n",
       " 'rcp_scenario',\n",
       " 'clientindustryid',\n",
       " 'total_loss_ratio_discounted',\n",
       " 'indirect_loss_ratio_discounted',\n",
       " 'direct_loss_ratio_discounted',\n",
       " 'max_total_loss_ratio_discounted',\n",
       " 'max_indirect_loss_ratio_discounted',\n",
       " 'max_direct_loss_ratio_discounted',\n",
       " 'adjusted_total_loss_ratio_discounted',\n",
       " 'adjusted_direct_loss_ratio_discounted',\n",
       " 'adjusted_indirect_loss_ratio_discounted']"
      ]
     },
     "execution_count": 16,
     "metadata": {},
     "output_type": "execute_result"
    }
   ],
   "source": [
    "max_values.columns"
   ]
  },
  {
   "cell_type": "code",
   "execution_count": 17,
   "id": "206893ee-9157-4a35-a13c-403909ab022e",
   "metadata": {},
   "outputs": [],
   "source": [
    "tier_conditions =  pl.read_csv('tier_conditions.csv')\n",
    "\n",
    "def categorize_level(level, tier_conditions, tier_type):\n",
    "    if level is None:\n",
    "        return None\n",
    "    tier_country = tier_conditions.filter(pl.col('tier_type') == 'exposure_percentile').drop('tier_type').to_dicts()\n",
    "\n",
    "    for row in tier_country:\n",
    "        if (row['lowerbound'] < level <= row['upperbound']):\n",
    "            return row['tier']\n",
    "    return None\n",
    "\n",
    "\n",
    "def calculate_percentiles_and_ranks(df, value_column, group_by_columns):\n",
    "    df = df.clone()\n",
    "    df = df.with_columns([\n",
    "        (pl.col(value_column).rank(method='dense').over(group_by_columns).cast(pl.Float64) / (df[value_column].len() - 1) * 100).alias('percentile'),\n",
    "        pl.col(value_column).rank(method='min').over(group_by_columns).cast(pl.Int32).alias('rank')\n",
    "    ], maintain_order=True)\n",
    "    return df\n",
    "    \n",
    "def calculate_percentiles(df, value_column, group_by_columns):\n",
    "    df = df.clone()\n",
    "    df = df.with_columns([\n",
    "        (pl.col(value_column).rank(method='dense').over(group_by_columns).cast(pl.Float64) / (df[value_column].len() - 1) * 100).alias('percentile'),\n",
    "    ], maintain_order=True)\n",
    "    return df\n",
    "\n",
    "def calculate_ranks(df, value_column, group_by_columns):\n",
    "    df = df.clone()\n",
    "    df = df.with_columns([\n",
    "        pl.col(value_column).rank(method='min').over(group_by_columns).cast(pl.Int32).alias('rank')\n",
    "    ], maintain_order=True)\n",
    "    return df\n",
    "    "
   ]
  },
  {
   "cell_type": "code",
   "execution_count": 18,
   "id": "521e9a98-f643-4a5e-b84e-29a5749ebb2c",
   "metadata": {},
   "outputs": [],
   "source": [
    "# max_values.with_columns([\n",
    "#         pl.col('adjusted_total_loss_ratio_discounted').rank(method='min').over(['rcp_scenario', 'clientindustryid']).cast(pl.Int32).alias('rank')\n",
    "#     ], maintain_order=True)\n",
    "\n",
    "# calculate_percentiles(max_values, 'adjusted_total_loss_ratio_discounted', ['rcp_scenario', 'clientindustryid'])"
   ]
  },
  {
   "cell_type": "code",
   "execution_count": 19,
   "id": "0d72db19-25c1-4104-94e9-4ce4ccbfbe00",
   "metadata": {},
   "outputs": [
    {
     "data": {
      "text/html": [
       "<div><style>\n",
       ".dataframe > thead > tr,\n",
       ".dataframe > tbody > tr {\n",
       "  text-align: right;\n",
       "  white-space: pre-wrap;\n",
       "}\n",
       "</style>\n",
       "<small>shape: (4_835, 17)</small><table border=\"1\" class=\"dataframe\"><thead><tr><th>entity_id</th><th>rcp_scenario</th><th>clientindustryid</th><th>total_loss_ratio_discounted</th><th>indirect_loss_ratio_discounted</th><th>direct_loss_ratio_discounted</th><th>max_total_loss_ratio_discounted</th><th>max_indirect_loss_ratio_discounted</th><th>max_direct_loss_ratio_discounted</th><th>adjusted_total_loss_ratio_discounted</th><th>adjusted_direct_loss_ratio_discounted</th><th>adjusted_indirect_loss_ratio_discounted</th><th>percentile</th><th>rank</th><th>maintain_order</th><th>overall_percentile_total_loss_ratio</th><th>total_loss_ratio_rank_overall</th></tr><tr><td>i64</td><td>str</td><td>i64</td><td>f64</td><td>f64</td><td>f64</td><td>f64</td><td>f64</td><td>f64</td><td>f64</td><td>f64</td><td>f64</td><td>f64</td><td>i32</td><td>bool</td><td>f64</td><td>i32</td></tr></thead><tbody><tr><td>2006146113</td><td>&quot;RCP2.6&quot;</td><td>451050</td><td>0.000127</td><td>0.000102</td><td>0.000025</td><td>100.572698</td><td>6.132625</td><td>94.440072</td><td>0.000127</td><td>0.000025</td><td>0.000102</td><td>0.558544</td><td>27</td><td>true</td><td>1.0</td><td>27</td></tr><tr><td>2007748991</td><td>&quot;RCP2.6&quot;</td><td>451050</td><td>0.002745</td><td>0.000401</td><td>0.002343</td><td>100.572698</td><td>6.132625</td><td>94.440072</td><td>0.002745</td><td>0.002343</td><td>0.000401</td><td>9.453868</td><td>457</td><td>true</td><td>9.0</td><td>457</td></tr><tr><td>2000219494</td><td>&quot;RCP2.6&quot;</td><td>254039</td><td>0.010407</td><td>0.001626</td><td>0.008781</td><td>100.572698</td><td>6.132625</td><td>94.440072</td><td>0.010407</td><td>0.008781</td><td>0.001626</td><td>36.326024</td><td>1756</td><td>true</td><td>36.0</td><td>1756</td></tr><tr><td>1008243682</td><td>&quot;RCP2.6&quot;</td><td>255040</td><td>0.01517</td><td>0.00285</td><td>0.01232</td><td>100.572698</td><td>6.132625</td><td>94.440072</td><td>0.01517</td><td>0.01232</td><td>0.00285</td><td>48.324369</td><td>2336</td><td>true</td><td>48.0</td><td>2336</td></tr><tr><td>1008754510</td><td>&quot;RCP2.6&quot;</td><td>501053</td><td>0.011067</td><td>0.000448</td><td>0.01062</td><td>100.572698</td><td>6.132625</td><td>94.440072</td><td>0.011067</td><td>0.01062</td><td>0.000448</td><td>38.249897</td><td>1849</td><td>true</td><td>38.0</td><td>1849</td></tr><tr><td>&hellip;</td><td>&hellip;</td><td>&hellip;</td><td>&hellip;</td><td>&hellip;</td><td>&hellip;</td><td>&hellip;</td><td>&hellip;</td><td>&hellip;</td><td>&hellip;</td><td>&hellip;</td><td>&hellip;</td><td>&hellip;</td><td>&hellip;</td><td>&hellip;</td><td>&hellip;</td><td>&hellip;</td></tr><tr><td>2006980355</td><td>&quot;RCP2.6&quot;</td><td>201028</td><td>0.01968</td><td>0.004793</td><td>0.014887</td><td>100.572698</td><td>6.132625</td><td>94.440072</td><td>0.01968</td><td>0.014887</td><td>0.004793</td><td>56.681837</td><td>2740</td><td>true</td><td>57.0</td><td>2740</td></tr><tr><td>1030215664</td><td>&quot;RCP2.6&quot;</td><td>252036</td><td>0.006776</td><td>0.000896</td><td>0.00588</td><td>100.572698</td><td>6.132625</td><td>94.440072</td><td>0.006776</td><td>0.00588</td><td>0.000896</td><td>24.741415</td><td>1196</td><td>true</td><td>25.0</td><td>1196</td></tr><tr><td>1008759007</td><td>&quot;RCP2.6&quot;</td><td>151015</td><td>0.036442</td><td>0.009888</td><td>0.026554</td><td>100.572698</td><td>6.132625</td><td>94.440072</td><td>0.036442</td><td>0.026554</td><td>0.009888</td><td>73.293339</td><td>3543</td><td>true</td><td>73.0</td><td>3543</td></tr><tr><td>1008761183</td><td>&quot;RCP2.6&quot;</td><td>201025</td><td>0.021185</td><td>0.004654</td><td>0.01653</td><td>100.572698</td><td>6.132625</td><td>94.440072</td><td>0.021185</td><td>0.01653</td><td>0.004654</td><td>59.019446</td><td>2853</td><td>true</td><td>59.0</td><td>2853</td></tr><tr><td>1007910068</td><td>&quot;RCP2.6&quot;</td><td>352045</td><td>-0.022557</td><td>-0.003548</td><td>-0.019009</td><td>100.572698</td><td>6.132625</td><td>94.440072</td><td>100.595255</td><td>94.459081</td><td>6.136173</td><td>96.524617</td><td>4666</td><td>true</td><td>97.0</td><td>4666</td></tr></tbody></table></div>"
      ],
      "text/plain": [
       "shape: (4_835, 17)\n",
       "┌────────────┬──────────────┬───────────────┬───────────────┬───┬──────┬───────────────┬───────────────┬───────────────┐\n",
       "│ entity_id  ┆ rcp_scenario ┆ clientindustr ┆ total_loss_ra ┆ … ┆ rank ┆ maintain_orde ┆ overall_perce ┆ total_loss_ra │\n",
       "│ ---        ┆ ---          ┆ yid           ┆ tio_discounte ┆   ┆ ---  ┆ r             ┆ ntile_total_l ┆ tio_rank_over │\n",
       "│ i64        ┆ str          ┆ ---           ┆ d             ┆   ┆ i32  ┆ ---           ┆ oss_…         ┆ all           │\n",
       "│            ┆              ┆ i64           ┆ ---           ┆   ┆      ┆ bool          ┆ ---           ┆ ---           │\n",
       "│            ┆              ┆               ┆ f64           ┆   ┆      ┆               ┆ f64           ┆ i32           │\n",
       "╞════════════╪══════════════╪═══════════════╪═══════════════╪═══╪══════╪═══════════════╪═══════════════╪═══════════════╡\n",
       "│ 2006146113 ┆ RCP2.6       ┆ 451050        ┆ 0.000127      ┆ … ┆ 27   ┆ true          ┆ 1.0           ┆ 27            │\n",
       "│ 2007748991 ┆ RCP2.6       ┆ 451050        ┆ 0.002745      ┆ … ┆ 457  ┆ true          ┆ 9.0           ┆ 457           │\n",
       "│ 2000219494 ┆ RCP2.6       ┆ 254039        ┆ 0.010407      ┆ … ┆ 1756 ┆ true          ┆ 36.0          ┆ 1756          │\n",
       "│ 1008243682 ┆ RCP2.6       ┆ 255040        ┆ 0.01517       ┆ … ┆ 2336 ┆ true          ┆ 48.0          ┆ 2336          │\n",
       "│ 1008754510 ┆ RCP2.6       ┆ 501053        ┆ 0.011067      ┆ … ┆ 1849 ┆ true          ┆ 38.0          ┆ 1849          │\n",
       "│ …          ┆ …            ┆ …             ┆ …             ┆ … ┆ …    ┆ …             ┆ …             ┆ …             │\n",
       "│ 2006980355 ┆ RCP2.6       ┆ 201028        ┆ 0.01968       ┆ … ┆ 2740 ┆ true          ┆ 57.0          ┆ 2740          │\n",
       "│ 1030215664 ┆ RCP2.6       ┆ 252036        ┆ 0.006776      ┆ … ┆ 1196 ┆ true          ┆ 25.0          ┆ 1196          │\n",
       "│ 1008759007 ┆ RCP2.6       ┆ 151015        ┆ 0.036442      ┆ … ┆ 3543 ┆ true          ┆ 73.0          ┆ 3543          │\n",
       "│ 1008761183 ┆ RCP2.6       ┆ 201025        ┆ 0.021185      ┆ … ┆ 2853 ┆ true          ┆ 59.0          ┆ 2853          │\n",
       "│ 1007910068 ┆ RCP2.6       ┆ 352045        ┆ -0.022557     ┆ … ┆ 4666 ┆ true          ┆ 97.0          ┆ 4666          │\n",
       "└────────────┴──────────────┴───────────────┴───────────────┴───┴──────┴───────────────┴───────────────┴───────────────┘"
      ]
     },
     "execution_count": 19,
     "metadata": {},
     "output_type": "execute_result"
    }
   ],
   "source": [
    "max_values = calculate_percentiles_and_ranks(max_values, 'adjusted_total_loss_ratio_discounted', ['rcp_scenario'])\n",
    "max_values = max_values.with_columns(overall_percentile_total_loss_ratio=pl.col('percentile').round(),\n",
    "                                     total_loss_ratio_rank_overall= pl.col('rank')\n",
    ")\n",
    "max_values"
   ]
  },
  {
   "cell_type": "code",
   "execution_count": 20,
   "id": "67c566de-004f-483d-99cd-760b2127cb62",
   "metadata": {},
   "outputs": [
    {
     "data": {
      "text/html": [
       "<div><style>\n",
       ".dataframe > thead > tr,\n",
       ".dataframe > tbody > tr {\n",
       "  text-align: right;\n",
       "  white-space: pre-wrap;\n",
       "}\n",
       "</style>\n",
       "<small>shape: (4_835, 23)</small><table border=\"1\" class=\"dataframe\"><thead><tr><th>entity_id</th><th>rcp_scenario</th><th>clientindustryid</th><th>total_loss_ratio_discounted</th><th>indirect_loss_ratio_discounted</th><th>direct_loss_ratio_discounted</th><th>max_total_loss_ratio_discounted</th><th>max_indirect_loss_ratio_discounted</th><th>max_direct_loss_ratio_discounted</th><th>adjusted_total_loss_ratio_discounted</th><th>adjusted_direct_loss_ratio_discounted</th><th>adjusted_indirect_loss_ratio_discounted</th><th>maintain_order</th><th>overall_percentile_total_loss_ratio</th><th>total_loss_ratio_rank_overall</th><th>industry_percentile_total_loss_ratio</th><th>total_loss_ratio_rank_industry</th><th>overall_percentile_direct_loss_ratio</th><th>industry_percentile_direct_loss_ratio</th><th>overall_percentile_indirect_loss_ratio</th><th>industry_percentile_indirect_loss_ratio</th><th>percent_total_loss_from_direct</th><th>percent_total_loss_from_indirect</th></tr><tr><td>i64</td><td>str</td><td>i64</td><td>f64</td><td>f64</td><td>f64</td><td>f64</td><td>f64</td><td>f64</td><td>f64</td><td>f64</td><td>f64</td><td>bool</td><td>f64</td><td>i32</td><td>f64</td><td>i32</td><td>f64</td><td>f64</td><td>f64</td><td>f64</td><td>f64</td><td>f64</td></tr></thead><tbody><tr><td>2006146113</td><td>&quot;RCP2.6&quot;</td><td>451050</td><td>0.000127</td><td>0.000102</td><td>0.000025</td><td>100.572698</td><td>6.132625</td><td>94.440072</td><td>0.000127</td><td>0.000025</td><td>0.000102</td><td>true</td><td>1.0</td><td>27</td><td>0.0</td><td>2</td><td>0.0</td><td>0.0</td><td>3.0</td><td>0.0</td><td>19.59068</td><td>80.40932</td></tr><tr><td>2007748991</td><td>&quot;RCP2.6&quot;</td><td>451050</td><td>0.002745</td><td>0.000401</td><td>0.002343</td><td>100.572698</td><td>6.132625</td><td>94.440072</td><td>0.002745</td><td>0.002343</td><td>0.000401</td><td>true</td><td>9.0</td><td>457</td><td>2.0</td><td>97</td><td>11.0</td><td>2.0</td><td>9.0</td><td>1.0</td><td>85.376536</td><td>14.623464</td></tr><tr><td>2000219494</td><td>&quot;RCP2.6&quot;</td><td>254039</td><td>0.010407</td><td>0.001626</td><td>0.008781</td><td>100.572698</td><td>6.132625</td><td>94.440072</td><td>0.010407</td><td>0.008781</td><td>0.001626</td><td>true</td><td>36.0</td><td>1756</td><td>1.0</td><td>58</td><td>38.0</td><td>1.0</td><td>39.0</td><td>1.0</td><td>84.378802</td><td>15.621198</td></tr><tr><td>1008243682</td><td>&quot;RCP2.6&quot;</td><td>255040</td><td>0.01517</td><td>0.00285</td><td>0.01232</td><td>100.572698</td><td>6.132625</td><td>94.440072</td><td>0.01517</td><td>0.01232</td><td>0.00285</td><td>true</td><td>48.0</td><td>2336</td><td>2.0</td><td>88</td><td>47.0</td><td>2.0</td><td>58.0</td><td>2.0</td><td>81.212395</td><td>18.787605</td></tr><tr><td>1008754510</td><td>&quot;RCP2.6&quot;</td><td>501053</td><td>0.011067</td><td>0.000448</td><td>0.01062</td><td>100.572698</td><td>6.132625</td><td>94.440072</td><td>0.011067</td><td>0.01062</td><td>0.000448</td><td>true</td><td>38.0</td><td>1849</td><td>1.0</td><td>49</td><td>43.0</td><td>1.0</td><td>10.0</td><td>0.0</td><td>95.955247</td><td>4.044753</td></tr><tr><td>&hellip;</td><td>&hellip;</td><td>&hellip;</td><td>&hellip;</td><td>&hellip;</td><td>&hellip;</td><td>&hellip;</td><td>&hellip;</td><td>&hellip;</td><td>&hellip;</td><td>&hellip;</td><td>&hellip;</td><td>&hellip;</td><td>&hellip;</td><td>&hellip;</td><td>&hellip;</td><td>&hellip;</td><td>&hellip;</td><td>&hellip;</td><td>&hellip;</td><td>&hellip;</td><td>&hellip;</td><td>&hellip;</td></tr><tr><td>2006980355</td><td>&quot;RCP2.6&quot;</td><td>201028</td><td>0.01968</td><td>0.004793</td><td>0.014887</td><td>100.572698</td><td>6.132625</td><td>94.440072</td><td>0.01968</td><td>0.014887</td><td>0.004793</td><td>true</td><td>57.0</td><td>2740</td><td>1.0</td><td>50</td><td>53.0</td><td>1.0</td><td>72.0</td><td>1.0</td><td>75.644888</td><td>24.355112</td></tr><tr><td>1030215664</td><td>&quot;RCP2.6&quot;</td><td>252036</td><td>0.006776</td><td>0.000896</td><td>0.00588</td><td>100.572698</td><td>6.132625</td><td>94.440072</td><td>0.006776</td><td>0.00588</td><td>0.000896</td><td>true</td><td>25.0</td><td>1196</td><td>0.0</td><td>18</td><td>27.0</td><td>0.0</td><td>23.0</td><td>0.0</td><td>86.782399</td><td>13.217601</td></tr><tr><td>1008759007</td><td>&quot;RCP2.6&quot;</td><td>151015</td><td>0.036442</td><td>0.009888</td><td>0.026554</td><td>100.572698</td><td>6.132625</td><td>94.440072</td><td>0.036442</td><td>0.026554</td><td>0.009888</td><td>true</td><td>73.0</td><td>3543</td><td>4.0</td><td>176</td><td>70.0</td><td>3.0</td><td>84.0</td><td>4.0</td><td>72.866728</td><td>27.133272</td></tr><tr><td>1008761183</td><td>&quot;RCP2.6&quot;</td><td>201025</td><td>0.021185</td><td>0.004654</td><td>0.01653</td><td>100.572698</td><td>6.132625</td><td>94.440072</td><td>0.021185</td><td>0.01653</td><td>0.004654</td><td>true</td><td>59.0</td><td>2853</td><td>1.0</td><td>46</td><td>57.0</td><td>1.0</td><td>72.0</td><td>1.0</td><td>78.029435</td><td>21.970565</td></tr><tr><td>1007910068</td><td>&quot;RCP2.6&quot;</td><td>352045</td><td>-0.022557</td><td>-0.003548</td><td>-0.019009</td><td>100.572698</td><td>6.132625</td><td>94.440072</td><td>100.595255</td><td>94.459081</td><td>6.136173</td><td>true</td><td>97.0</td><td>4666</td><td>6.0</td><td>283</td><td>96.0</td><td>6.0</td><td>97.0</td><td>6.0</td><td>84.271244</td><td>15.728756</td></tr></tbody></table></div>"
      ],
      "text/plain": [
       "shape: (4_835, 23)\n",
       "┌────────────┬──────────────┬──────────────┬──────────────┬───┬──────────────┬─────────────┬─────────────┬─────────────┐\n",
       "│ entity_id  ┆ rcp_scenario ┆ clientindust ┆ total_loss_r ┆ … ┆ overall_perc ┆ industry_pe ┆ percent_tot ┆ percent_tot │\n",
       "│ ---        ┆ ---          ┆ ryid         ┆ atio_discoun ┆   ┆ entile_indir ┆ rcentile_in ┆ al_loss_fro ┆ al_loss_fro │\n",
       "│ i64        ┆ str          ┆ ---          ┆ ted          ┆   ┆ ect_lo…      ┆ direct_l…   ┆ m_direct    ┆ m_indire…   │\n",
       "│            ┆              ┆ i64          ┆ ---          ┆   ┆ ---          ┆ ---         ┆ ---         ┆ ---         │\n",
       "│            ┆              ┆              ┆ f64          ┆   ┆ f64          ┆ f64         ┆ f64         ┆ f64         │\n",
       "╞════════════╪══════════════╪══════════════╪══════════════╪═══╪══════════════╪═════════════╪═════════════╪═════════════╡\n",
       "│ 2006146113 ┆ RCP2.6       ┆ 451050       ┆ 0.000127     ┆ … ┆ 3.0          ┆ 0.0         ┆ 19.59068    ┆ 80.40932    │\n",
       "│ 2007748991 ┆ RCP2.6       ┆ 451050       ┆ 0.002745     ┆ … ┆ 9.0          ┆ 1.0         ┆ 85.376536   ┆ 14.623464   │\n",
       "│ 2000219494 ┆ RCP2.6       ┆ 254039       ┆ 0.010407     ┆ … ┆ 39.0         ┆ 1.0         ┆ 84.378802   ┆ 15.621198   │\n",
       "│ 1008243682 ┆ RCP2.6       ┆ 255040       ┆ 0.01517      ┆ … ┆ 58.0         ┆ 2.0         ┆ 81.212395   ┆ 18.787605   │\n",
       "│ 1008754510 ┆ RCP2.6       ┆ 501053       ┆ 0.011067     ┆ … ┆ 10.0         ┆ 0.0         ┆ 95.955247   ┆ 4.044753    │\n",
       "│ …          ┆ …            ┆ …            ┆ …            ┆ … ┆ …            ┆ …           ┆ …           ┆ …           │\n",
       "│ 2006980355 ┆ RCP2.6       ┆ 201028       ┆ 0.01968      ┆ … ┆ 72.0         ┆ 1.0         ┆ 75.644888   ┆ 24.355112   │\n",
       "│ 1030215664 ┆ RCP2.6       ┆ 252036       ┆ 0.006776     ┆ … ┆ 23.0         ┆ 0.0         ┆ 86.782399   ┆ 13.217601   │\n",
       "│ 1008759007 ┆ RCP2.6       ┆ 151015       ┆ 0.036442     ┆ … ┆ 84.0         ┆ 4.0         ┆ 72.866728   ┆ 27.133272   │\n",
       "│ 1008761183 ┆ RCP2.6       ┆ 201025       ┆ 0.021185     ┆ … ┆ 72.0         ┆ 1.0         ┆ 78.029435   ┆ 21.970565   │\n",
       "│ 1007910068 ┆ RCP2.6       ┆ 352045       ┆ -0.022557    ┆ … ┆ 97.0         ┆ 6.0         ┆ 84.271244   ┆ 15.728756   │\n",
       "└────────────┴──────────────┴──────────────┴──────────────┴───┴──────────────┴─────────────┴─────────────┴─────────────┘"
      ]
     },
     "execution_count": 20,
     "metadata": {},
     "output_type": "execute_result"
    }
   ],
   "source": [
    "max_values = calculate_percentiles_and_ranks(max_values, 'adjusted_total_loss_ratio_discounted', ['rcp_scenario'])\n",
    "max_values = max_values.with_columns(overall_percentile_total_loss_ratio=pl.col('percentile').round(),\n",
    "                                     total_loss_ratio_rank_overall= pl.col('rank') )\n",
    "\n",
    "max_values = calculate_percentiles_and_ranks(max_values, 'adjusted_total_loss_ratio_discounted', ['rcp_scenario', 'clientindustryid'])\n",
    "max_values = max_values.with_columns(industry_percentile_total_loss_ratio=pl.col('percentile').round(),\n",
    "                                     total_loss_ratio_rank_industry= pl.col('rank') )\n",
    "\n",
    "\n",
    "max_values = calculate_percentiles(max_values, 'adjusted_direct_loss_ratio_discounted', ['rcp_scenario'])\n",
    "max_values = max_values.with_columns(overall_percentile_direct_loss_ratio=pl.col('percentile').round() )\n",
    "\n",
    "max_values = calculate_percentiles(max_values, 'adjusted_direct_loss_ratio_discounted', ['rcp_scenario', 'clientindustryid'])\n",
    "max_values = max_values.with_columns(industry_percentile_direct_loss_ratio=pl.col('percentile').round() )\n",
    "\n",
    "max_values = calculate_percentiles_and_ranks(max_values, 'adjusted_indirect_loss_ratio_discounted', ['rcp_scenario'])\n",
    "max_values = max_values.with_columns(overall_percentile_indirect_loss_ratio= pl.col('percentile').round()\n",
    ")\n",
    "\n",
    "max_values = calculate_percentiles(max_values, 'adjusted_indirect_loss_ratio_discounted', ['rcp_scenario', 'clientindustryid'])\n",
    "max_values = max_values.with_columns(industry_percentile_indirect_loss_ratio = pl.col('percentile').round()\n",
    ")\n",
    "\n",
    "max_values = max_values.drop(['percentile', 'rank'])\n",
    "\n",
    "max_values = max_values.with_columns(\n",
    "    percent_total_loss_from_direct =\n",
    "    (pl.col('direct_loss_ratio_discounted') / (pl.col('indirect_loss_ratio_discounted') + pl.col('direct_loss_ratio_discounted'))) * 100\n",
    ")\n",
    "\n",
    "max_values = max_values.with_columns(\n",
    "    percent_total_loss_from_indirect=\n",
    "    (pl.col('indirect_loss_ratio_discounted') / (pl.col('indirect_loss_ratio_discounted') + pl.col('direct_loss_ratio_discounted'))) * 100\n",
    ")\n",
    "max_values"
   ]
  },
  {
   "cell_type": "code",
   "execution_count": 21,
   "id": "7e393711-1fc8-4899-81c2-f8fea49396c8",
   "metadata": {},
   "outputs": [
    {
     "data": {
      "text/html": [
       "<div><style>\n",
       ".dataframe > thead > tr,\n",
       ".dataframe > tbody > tr {\n",
       "  text-align: right;\n",
       "  white-space: pre-wrap;\n",
       "}\n",
       "</style>\n",
       "<small>shape: (1, 23)</small><table border=\"1\" class=\"dataframe\"><thead><tr><th>entity_id</th><th>rcp_scenario</th><th>clientindustryid</th><th>total_loss_ratio_discounted</th><th>indirect_loss_ratio_discounted</th><th>direct_loss_ratio_discounted</th><th>max_total_loss_ratio_discounted</th><th>max_indirect_loss_ratio_discounted</th><th>max_direct_loss_ratio_discounted</th><th>adjusted_total_loss_ratio_discounted</th><th>adjusted_direct_loss_ratio_discounted</th><th>adjusted_indirect_loss_ratio_discounted</th><th>maintain_order</th><th>overall_percentile_total_loss_ratio</th><th>total_loss_ratio_rank_overall</th><th>industry_percentile_total_loss_ratio</th><th>total_loss_ratio_rank_industry</th><th>overall_percentile_direct_loss_ratio</th><th>industry_percentile_direct_loss_ratio</th><th>overall_percentile_indirect_loss_ratio</th><th>industry_percentile_indirect_loss_ratio</th><th>percent_total_loss_from_direct</th><th>percent_total_loss_from_indirect</th></tr><tr><td>i64</td><td>str</td><td>i64</td><td>f64</td><td>f64</td><td>f64</td><td>f64</td><td>f64</td><td>f64</td><td>f64</td><td>f64</td><td>f64</td><td>bool</td><td>f64</td><td>i32</td><td>f64</td><td>i32</td><td>f64</td><td>f64</td><td>f64</td><td>f64</td><td>f64</td><td>f64</td></tr></thead><tbody><tr><td>1007896773</td><td>&quot;RCP2.6&quot;</td><td>201025</td><td>0.018514</td><td>0.003768</td><td>0.014746</td><td>100.572698</td><td>6.132625</td><td>94.440072</td><td>0.018514</td><td>0.014746</td><td>0.003768</td><td>true</td><td>55.0</td><td>2653</td><td>1.0</td><td>43</td><td>53.0</td><td>1.0</td><td>67.0</td><td>1.0</td><td>79.646154</td><td>20.353846</td></tr></tbody></table></div>"
      ],
      "text/plain": [
       "shape: (1, 23)\n",
       "┌────────────┬──────────────┬──────────────┬──────────────┬───┬──────────────┬─────────────┬─────────────┬─────────────┐\n",
       "│ entity_id  ┆ rcp_scenario ┆ clientindust ┆ total_loss_r ┆ … ┆ overall_perc ┆ industry_pe ┆ percent_tot ┆ percent_tot │\n",
       "│ ---        ┆ ---          ┆ ryid         ┆ atio_discoun ┆   ┆ entile_indir ┆ rcentile_in ┆ al_loss_fro ┆ al_loss_fro │\n",
       "│ i64        ┆ str          ┆ ---          ┆ ted          ┆   ┆ ect_lo…      ┆ direct_l…   ┆ m_direct    ┆ m_indire…   │\n",
       "│            ┆              ┆ i64          ┆ ---          ┆   ┆ ---          ┆ ---         ┆ ---         ┆ ---         │\n",
       "│            ┆              ┆              ┆ f64          ┆   ┆ f64          ┆ f64         ┆ f64         ┆ f64         │\n",
       "╞════════════╪══════════════╪══════════════╪══════════════╪═══╪══════════════╪═════════════╪═════════════╪═════════════╡\n",
       "│ 1007896773 ┆ RCP2.6       ┆ 201025       ┆ 0.018514     ┆ … ┆ 67.0         ┆ 1.0         ┆ 79.646154   ┆ 20.353846   │\n",
       "└────────────┴──────────────┴──────────────┴──────────────┴───┴──────────────┴─────────────┴─────────────┴─────────────┘"
      ]
     },
     "execution_count": 21,
     "metadata": {},
     "output_type": "execute_result"
    }
   ],
   "source": [
    "max_values.filter(pl.col('entity_id')==1007896773)"
   ]
  },
  {
   "cell_type": "code",
   "execution_count": 22,
   "id": "d25e9b4c-a996-4d23-a0d0-4a010c611e14",
   "metadata": {},
   "outputs": [
    {
     "data": {
      "text/html": [
       "<div><style>\n",
       ".dataframe > thead > tr,\n",
       ".dataframe > tbody > tr {\n",
       "  text-align: right;\n",
       "  white-space: pre-wrap;\n",
       "}\n",
       "</style>\n",
       "<small>shape: (4_835,)</small><table border=\"1\" class=\"dataframe\"><thead><tr><th>overall_percentile_direct_loss_ratio</th></tr><tr><td>f64</td></tr></thead><tbody><tr><td>0.0</td></tr><tr><td>11.0</td></tr><tr><td>38.0</td></tr><tr><td>47.0</td></tr><tr><td>43.0</td></tr><tr><td>&hellip;</td></tr><tr><td>53.0</td></tr><tr><td>27.0</td></tr><tr><td>70.0</td></tr><tr><td>57.0</td></tr><tr><td>96.0</td></tr></tbody></table></div>"
      ],
      "text/plain": [
       "shape: (4_835,)\n",
       "Series: 'overall_percentile_direct_loss_ratio' [f64]\n",
       "[\n",
       "\t0.0\n",
       "\t11.0\n",
       "\t38.0\n",
       "\t47.0\n",
       "\t43.0\n",
       "\t…\n",
       "\t53.0\n",
       "\t27.0\n",
       "\t70.0\n",
       "\t57.0\n",
       "\t96.0\n",
       "]"
      ]
     },
     "execution_count": 22,
     "metadata": {},
     "output_type": "execute_result"
    }
   ],
   "source": [
    "# max_values = calculate_percentiles_and_ranks(max_values, 'adjusted_total_loss_ratio_discounted', ['rcp_scenario'])\n",
    "# max_values['overall_percentile_total_loss_ratio'] = max_values['percentile'].round(0)\n",
    "# max_values['total_loss_ratio_rank_overall'] = max_values['rank']\n",
    "\n",
    "# max_values = calculate_percentiles_and_ranks(max_values, 'adjusted_total_loss_ratio_discounted', ['rcp_scenario', 'clientindustryid'])\n",
    "# max_values['industry_percentile_total_loss_ratio'] = max_values['percentile'].round(0)\n",
    "# max_values['total_loss_ratio_rank_industry'] = max_values['rank']\n",
    "\n",
    "# max_values = calculate_percentiles_and_ranks(max_values, 'adjusted_direct_loss_ratio_discounted', ['rcp_scenario'])\n",
    "# max_values['overall_percentile_direct_loss_ratio'] = max_values['percentile'].round(0)\n",
    "\n",
    "# max_values = calculate_percentiles_and_ranks(max_values, 'adjusted_direct_loss_ratio_discounted', ['rcp_scenario', 'clientindustryid'])\n",
    "# max_values['industry_percentile_direct_loss_ratio'] = max_values['percentile'].round(0)\n",
    "\n",
    "# max_values = calculate_percentiles_and_ranks(max_values, 'adjusted_indirect_loss_ratio_discounted', ['rcp_scenario'])\n",
    "# max_values['overall_percentile_indirect_loss_ratio'] = max_values['percentile'].round(0).round(0)\n",
    "\n",
    "# max_values = calculate_percentiles_and_ranks(max_values, 'adjusted_indirect_loss_ratio_discounted', ['rcp_scenario', 'clientindustryid'])\n",
    "# max_values['industry_percentile_indirect_loss_ratio'] = max_values['percentile'].round(0)\n",
    "\n",
    "# max_values = max_values.drop(['percentile','rank'],axis=1)\n",
    "\n",
    "# max_values['percent_total_loss_from_direct'] = (max_values['direct_loss_ratio_discounted'] / \n",
    "#                                                (max_values['indirect_loss_ratio_discounted'] + max_values['direct_loss_ratio_discounted'])) * 100\n",
    "\n",
    "# max_values['percent_total_loss_from_indirect'] = (max_values['indirect_loss_ratio_discounted'] / \n",
    "#                                                  (max_values['indirect_loss_ratio_discounted'] + max_values['direct_loss_ratio_discounted'])) * 100\n",
    "\n",
    "max_values['overall_percentile_direct_loss_ratio']"
   ]
  },
  {
   "cell_type": "code",
   "execution_count": 23,
   "id": "6cdab327-fd6d-49ea-a8e1-8fff5af0bdc4",
   "metadata": {
    "scrolled": true
   },
   "outputs": [
    {
     "data": {
      "text/html": [
       "<div><style>\n",
       ".dataframe > thead > tr,\n",
       ".dataframe > tbody > tr {\n",
       "  text-align: right;\n",
       "  white-space: pre-wrap;\n",
       "}\n",
       "</style>\n",
       "<small>shape: (4_835, 24)</small><table border=\"1\" class=\"dataframe\"><thead><tr><th>entity_id</th><th>rcp_scenario</th><th>clientindustryid</th><th>total_loss_ratio_discounted</th><th>indirect_loss_ratio_discounted</th><th>direct_loss_ratio_discounted</th><th>max_total_loss_ratio_discounted</th><th>max_indirect_loss_ratio_discounted</th><th>max_direct_loss_ratio_discounted</th><th>adjusted_total_loss_ratio_discounted</th><th>adjusted_direct_loss_ratio_discounted</th><th>adjusted_indirect_loss_ratio_discounted</th><th>maintain_order</th><th>overall_percentile_total_loss_ratio</th><th>total_loss_ratio_rank_overall</th><th>industry_percentile_total_loss_ratio</th><th>total_loss_ratio_rank_industry</th><th>overall_percentile_direct_loss_ratio</th><th>industry_percentile_direct_loss_ratio</th><th>overall_percentile_indirect_loss_ratio</th><th>industry_percentile_indirect_loss_ratio</th><th>percent_total_loss_from_direct</th><th>percent_total_loss_from_indirect</th><th>overall_category_direct_loss_ratio</th></tr><tr><td>i64</td><td>str</td><td>i64</td><td>f64</td><td>f64</td><td>f64</td><td>f64</td><td>f64</td><td>f64</td><td>f64</td><td>f64</td><td>f64</td><td>bool</td><td>f64</td><td>i32</td><td>f64</td><td>i32</td><td>f64</td><td>f64</td><td>f64</td><td>f64</td><td>f64</td><td>f64</td><td>str</td></tr></thead><tbody><tr><td>2006146113</td><td>&quot;RCP2.6&quot;</td><td>451050</td><td>0.000127</td><td>0.000102</td><td>0.000025</td><td>100.572698</td><td>6.132625</td><td>94.440072</td><td>0.000127</td><td>0.000025</td><td>0.000102</td><td>true</td><td>1.0</td><td>27</td><td>0.0</td><td>2</td><td>0.0</td><td>0.0</td><td>3.0</td><td>0.0</td><td>19.59068</td><td>80.40932</td><td>&quot;Negligible&quot;</td></tr><tr><td>2007748991</td><td>&quot;RCP2.6&quot;</td><td>451050</td><td>0.002745</td><td>0.000401</td><td>0.002343</td><td>100.572698</td><td>6.132625</td><td>94.440072</td><td>0.002745</td><td>0.002343</td><td>0.000401</td><td>true</td><td>9.0</td><td>457</td><td>2.0</td><td>97</td><td>11.0</td><td>2.0</td><td>9.0</td><td>1.0</td><td>85.376536</td><td>14.623464</td><td>&quot;Medium&quot;</td></tr><tr><td>2000219494</td><td>&quot;RCP2.6&quot;</td><td>254039</td><td>0.010407</td><td>0.001626</td><td>0.008781</td><td>100.572698</td><td>6.132625</td><td>94.440072</td><td>0.010407</td><td>0.008781</td><td>0.001626</td><td>true</td><td>36.0</td><td>1756</td><td>1.0</td><td>58</td><td>38.0</td><td>1.0</td><td>39.0</td><td>1.0</td><td>84.378802</td><td>15.621198</td><td>&quot;High&quot;</td></tr><tr><td>1008243682</td><td>&quot;RCP2.6&quot;</td><td>255040</td><td>0.01517</td><td>0.00285</td><td>0.01232</td><td>100.572698</td><td>6.132625</td><td>94.440072</td><td>0.01517</td><td>0.01232</td><td>0.00285</td><td>true</td><td>48.0</td><td>2336</td><td>2.0</td><td>88</td><td>47.0</td><td>2.0</td><td>58.0</td><td>2.0</td><td>81.212395</td><td>18.787605</td><td>&quot;High&quot;</td></tr><tr><td>1008754510</td><td>&quot;RCP2.6&quot;</td><td>501053</td><td>0.011067</td><td>0.000448</td><td>0.01062</td><td>100.572698</td><td>6.132625</td><td>94.440072</td><td>0.011067</td><td>0.01062</td><td>0.000448</td><td>true</td><td>38.0</td><td>1849</td><td>1.0</td><td>49</td><td>43.0</td><td>1.0</td><td>10.0</td><td>0.0</td><td>95.955247</td><td>4.044753</td><td>&quot;High&quot;</td></tr><tr><td>&hellip;</td><td>&hellip;</td><td>&hellip;</td><td>&hellip;</td><td>&hellip;</td><td>&hellip;</td><td>&hellip;</td><td>&hellip;</td><td>&hellip;</td><td>&hellip;</td><td>&hellip;</td><td>&hellip;</td><td>&hellip;</td><td>&hellip;</td><td>&hellip;</td><td>&hellip;</td><td>&hellip;</td><td>&hellip;</td><td>&hellip;</td><td>&hellip;</td><td>&hellip;</td><td>&hellip;</td><td>&hellip;</td><td>&hellip;</td></tr><tr><td>2006980355</td><td>&quot;RCP2.6&quot;</td><td>201028</td><td>0.01968</td><td>0.004793</td><td>0.014887</td><td>100.572698</td><td>6.132625</td><td>94.440072</td><td>0.01968</td><td>0.014887</td><td>0.004793</td><td>true</td><td>57.0</td><td>2740</td><td>1.0</td><td>50</td><td>53.0</td><td>1.0</td><td>72.0</td><td>1.0</td><td>75.644888</td><td>24.355112</td><td>&quot;High&quot;</td></tr><tr><td>1030215664</td><td>&quot;RCP2.6&quot;</td><td>252036</td><td>0.006776</td><td>0.000896</td><td>0.00588</td><td>100.572698</td><td>6.132625</td><td>94.440072</td><td>0.006776</td><td>0.00588</td><td>0.000896</td><td>true</td><td>25.0</td><td>1196</td><td>0.0</td><td>18</td><td>27.0</td><td>0.0</td><td>23.0</td><td>0.0</td><td>86.782399</td><td>13.217601</td><td>&quot;High&quot;</td></tr><tr><td>1008759007</td><td>&quot;RCP2.6&quot;</td><td>151015</td><td>0.036442</td><td>0.009888</td><td>0.026554</td><td>100.572698</td><td>6.132625</td><td>94.440072</td><td>0.036442</td><td>0.026554</td><td>0.009888</td><td>true</td><td>73.0</td><td>3543</td><td>4.0</td><td>176</td><td>70.0</td><td>3.0</td><td>84.0</td><td>4.0</td><td>72.866728</td><td>27.133272</td><td>&quot;High&quot;</td></tr><tr><td>1008761183</td><td>&quot;RCP2.6&quot;</td><td>201025</td><td>0.021185</td><td>0.004654</td><td>0.01653</td><td>100.572698</td><td>6.132625</td><td>94.440072</td><td>0.021185</td><td>0.01653</td><td>0.004654</td><td>true</td><td>59.0</td><td>2853</td><td>1.0</td><td>46</td><td>57.0</td><td>1.0</td><td>72.0</td><td>1.0</td><td>78.029435</td><td>21.970565</td><td>&quot;High&quot;</td></tr><tr><td>1007910068</td><td>&quot;RCP2.6&quot;</td><td>352045</td><td>-0.022557</td><td>-0.003548</td><td>-0.019009</td><td>100.572698</td><td>6.132625</td><td>94.440072</td><td>100.595255</td><td>94.459081</td><td>6.136173</td><td>true</td><td>97.0</td><td>4666</td><td>6.0</td><td>283</td><td>96.0</td><td>6.0</td><td>97.0</td><td>6.0</td><td>84.271244</td><td>15.728756</td><td>&quot;Severe - Negative Cash Flow&quot;</td></tr></tbody></table></div>"
      ],
      "text/plain": [
       "shape: (4_835, 24)\n",
       "┌────────────┬──────────────┬──────────────┬──────────────┬───┬──────────────┬─────────────┬─────────────┬─────────────┐\n",
       "│ entity_id  ┆ rcp_scenario ┆ clientindust ┆ total_loss_r ┆ … ┆ industry_per ┆ percent_tot ┆ percent_tot ┆ overall_cat │\n",
       "│ ---        ┆ ---          ┆ ryid         ┆ atio_discoun ┆   ┆ centile_indi ┆ al_loss_fro ┆ al_loss_fro ┆ egory_direc │\n",
       "│ i64        ┆ str          ┆ ---          ┆ ted          ┆   ┆ rect_l…      ┆ m_direct    ┆ m_indire…   ┆ t_loss_r…   │\n",
       "│            ┆              ┆ i64          ┆ ---          ┆   ┆ ---          ┆ ---         ┆ ---         ┆ ---         │\n",
       "│            ┆              ┆              ┆ f64          ┆   ┆ f64          ┆ f64         ┆ f64         ┆ str         │\n",
       "╞════════════╪══════════════╪══════════════╪══════════════╪═══╪══════════════╪═════════════╪═════════════╪═════════════╡\n",
       "│ 2006146113 ┆ RCP2.6       ┆ 451050       ┆ 0.000127     ┆ … ┆ 0.0          ┆ 19.59068    ┆ 80.40932    ┆ Negligible  │\n",
       "│ 2007748991 ┆ RCP2.6       ┆ 451050       ┆ 0.002745     ┆ … ┆ 1.0          ┆ 85.376536   ┆ 14.623464   ┆ Medium      │\n",
       "│ 2000219494 ┆ RCP2.6       ┆ 254039       ┆ 0.010407     ┆ … ┆ 1.0          ┆ 84.378802   ┆ 15.621198   ┆ High        │\n",
       "│ 1008243682 ┆ RCP2.6       ┆ 255040       ┆ 0.01517      ┆ … ┆ 2.0          ┆ 81.212395   ┆ 18.787605   ┆ High        │\n",
       "│ 1008754510 ┆ RCP2.6       ┆ 501053       ┆ 0.011067     ┆ … ┆ 0.0          ┆ 95.955247   ┆ 4.044753    ┆ High        │\n",
       "│ …          ┆ …            ┆ …            ┆ …            ┆ … ┆ …            ┆ …           ┆ …           ┆ …           │\n",
       "│ 2006980355 ┆ RCP2.6       ┆ 201028       ┆ 0.01968      ┆ … ┆ 1.0          ┆ 75.644888   ┆ 24.355112   ┆ High        │\n",
       "│ 1030215664 ┆ RCP2.6       ┆ 252036       ┆ 0.006776     ┆ … ┆ 0.0          ┆ 86.782399   ┆ 13.217601   ┆ High        │\n",
       "│ 1008759007 ┆ RCP2.6       ┆ 151015       ┆ 0.036442     ┆ … ┆ 4.0          ┆ 72.866728   ┆ 27.133272   ┆ High        │\n",
       "│ 1008761183 ┆ RCP2.6       ┆ 201025       ┆ 0.021185     ┆ … ┆ 1.0          ┆ 78.029435   ┆ 21.970565   ┆ High        │\n",
       "│ 1007910068 ┆ RCP2.6       ┆ 352045       ┆ -0.022557    ┆ … ┆ 6.0          ┆ 84.271244   ┆ 15.728756   ┆ Severe -    │\n",
       "│            ┆              ┆              ┆              ┆   ┆              ┆             ┆             ┆ Negative    │\n",
       "│            ┆              ┆              ┆              ┆   ┆              ┆             ┆             ┆ Cash Flow   │\n",
       "└────────────┴──────────────┴──────────────┴──────────────┴───┴──────────────┴─────────────┴─────────────┴─────────────┘"
      ]
     },
     "execution_count": 23,
     "metadata": {},
     "output_type": "execute_result"
    }
   ],
   "source": [
    "# max_values.with_columns(pl.col('direct_loss_ratio_discounted').is_null())\n",
    "\n",
    "\n",
    "# level = max_values['overall_percentile_direct_loss_ratio'][5]\n",
    "# if level is None:\n",
    "#     print('Null')\n",
    "#         # return None\n",
    "# tier_country = tier_conditions.filter(pl.col('tier_type') == 'exposure_percentile').drop('tier_type').to_dicts()\n",
    "\n",
    "# for row in tier_country:\n",
    "#     if (row['lowerbound'] < level <= row['upperbound']):\n",
    "#         print(row['tier'])\n",
    "max_values.with_columns(\n",
    "        pl.when(pl.col('direct_loss_ratio_discounted') >= 0)\n",
    "            .then(pl.col('overall_percentile_direct_loss_ratio').map_elements(lambda x: categorize_level(x, tier_conditions, 'exposure_percentile'),\n",
    "                                                                              return_dtype=pl.String))\\\n",
    "            .otherwise(pl.lit(categorize_level(-2, tier_conditions, 'exposure_percentile')))\n",
    "            .alias('overall_category_direct_loss_ratio'))"
   ]
  },
  {
   "cell_type": "code",
   "execution_count": 24,
   "id": "2c107ec3-904f-4253-bab6-e5078708adda",
   "metadata": {},
   "outputs": [
    {
     "data": {
      "text/html": [
       "<div><style>\n",
       ".dataframe > thead > tr,\n",
       ".dataframe > tbody > tr {\n",
       "  text-align: right;\n",
       "  white-space: pre-wrap;\n",
       "}\n",
       "</style>\n",
       "<small>shape: (4_835, 28)</small><table border=\"1\" class=\"dataframe\"><thead><tr><th>entity_id</th><th>rcp_scenario</th><th>clientindustryid</th><th>total_loss_ratio_discounted</th><th>indirect_loss_ratio_discounted</th><th>direct_loss_ratio_discounted</th><th>max_total_loss_ratio_discounted</th><th>max_indirect_loss_ratio_discounted</th><th>max_direct_loss_ratio_discounted</th><th>adjusted_total_loss_ratio_discounted</th><th>adjusted_direct_loss_ratio_discounted</th><th>adjusted_indirect_loss_ratio_discounted</th><th>maintain_order</th><th>overall_percentile_total_loss_ratio</th><th>total_loss_ratio_rank_overall</th><th>industry_percentile_total_loss_ratio</th><th>total_loss_ratio_rank_industry</th><th>overall_percentile_direct_loss_ratio</th><th>industry_percentile_direct_loss_ratio</th><th>overall_percentile_indirect_loss_ratio</th><th>industry_percentile_indirect_loss_ratio</th><th>percent_total_loss_from_direct</th><th>percent_total_loss_from_indirect</th><th>overall_category_direct_loss_ratio</th><th>industry_category_direct_loss_ratio</th><th>overall_category_indirect_loss_ratio</th><th>industry_category_indirect_loss_ratio</th><th>total_loss_ratio_category</th></tr><tr><td>i64</td><td>str</td><td>i64</td><td>f64</td><td>f64</td><td>f64</td><td>f64</td><td>f64</td><td>f64</td><td>f64</td><td>f64</td><td>f64</td><td>bool</td><td>f64</td><td>i32</td><td>f64</td><td>i32</td><td>f64</td><td>f64</td><td>f64</td><td>f64</td><td>f64</td><td>f64</td><td>str</td><td>str</td><td>str</td><td>str</td><td>str</td></tr></thead><tbody><tr><td>2006146113</td><td>&quot;RCP2.6&quot;</td><td>451050</td><td>0.000127</td><td>0.000102</td><td>0.000025</td><td>100.572698</td><td>6.132625</td><td>94.440072</td><td>0.000127</td><td>0.000025</td><td>0.000102</td><td>true</td><td>1.0</td><td>27</td><td>0.0</td><td>2</td><td>0.0</td><td>0.0</td><td>3.0</td><td>0.0</td><td>19.59068</td><td>80.40932</td><td>&quot;Negligible&quot;</td><td>&quot;Negligible&quot;</td><td>&quot;Low&quot;</td><td>&quot;Negligible&quot;</td><td>&quot;Negligible&quot;</td></tr><tr><td>2007748991</td><td>&quot;RCP2.6&quot;</td><td>451050</td><td>0.002745</td><td>0.000401</td><td>0.002343</td><td>100.572698</td><td>6.132625</td><td>94.440072</td><td>0.002745</td><td>0.002343</td><td>0.000401</td><td>true</td><td>9.0</td><td>457</td><td>2.0</td><td>97</td><td>11.0</td><td>2.0</td><td>9.0</td><td>1.0</td><td>85.376536</td><td>14.623464</td><td>&quot;Medium&quot;</td><td>&quot;Low&quot;</td><td>&quot;Medium&quot;</td><td>&quot;Negligible&quot;</td><td>&quot;Negligible&quot;</td></tr><tr><td>2000219494</td><td>&quot;RCP2.6&quot;</td><td>254039</td><td>0.010407</td><td>0.001626</td><td>0.008781</td><td>100.572698</td><td>6.132625</td><td>94.440072</td><td>0.010407</td><td>0.008781</td><td>0.001626</td><td>true</td><td>36.0</td><td>1756</td><td>1.0</td><td>58</td><td>38.0</td><td>1.0</td><td>39.0</td><td>1.0</td><td>84.378802</td><td>15.621198</td><td>&quot;High&quot;</td><td>&quot;Negligible&quot;</td><td>&quot;High&quot;</td><td>&quot;Negligible&quot;</td><td>&quot;Negligible&quot;</td></tr><tr><td>1008243682</td><td>&quot;RCP2.6&quot;</td><td>255040</td><td>0.01517</td><td>0.00285</td><td>0.01232</td><td>100.572698</td><td>6.132625</td><td>94.440072</td><td>0.01517</td><td>0.01232</td><td>0.00285</td><td>true</td><td>48.0</td><td>2336</td><td>2.0</td><td>88</td><td>47.0</td><td>2.0</td><td>58.0</td><td>2.0</td><td>81.212395</td><td>18.787605</td><td>&quot;High&quot;</td><td>&quot;Low&quot;</td><td>&quot;High&quot;</td><td>&quot;Low&quot;</td><td>&quot;Negligible&quot;</td></tr><tr><td>1008754510</td><td>&quot;RCP2.6&quot;</td><td>501053</td><td>0.011067</td><td>0.000448</td><td>0.01062</td><td>100.572698</td><td>6.132625</td><td>94.440072</td><td>0.011067</td><td>0.01062</td><td>0.000448</td><td>true</td><td>38.0</td><td>1849</td><td>1.0</td><td>49</td><td>43.0</td><td>1.0</td><td>10.0</td><td>0.0</td><td>95.955247</td><td>4.044753</td><td>&quot;High&quot;</td><td>&quot;Negligible&quot;</td><td>&quot;Medium&quot;</td><td>&quot;Negligible&quot;</td><td>&quot;Negligible&quot;</td></tr><tr><td>&hellip;</td><td>&hellip;</td><td>&hellip;</td><td>&hellip;</td><td>&hellip;</td><td>&hellip;</td><td>&hellip;</td><td>&hellip;</td><td>&hellip;</td><td>&hellip;</td><td>&hellip;</td><td>&hellip;</td><td>&hellip;</td><td>&hellip;</td><td>&hellip;</td><td>&hellip;</td><td>&hellip;</td><td>&hellip;</td><td>&hellip;</td><td>&hellip;</td><td>&hellip;</td><td>&hellip;</td><td>&hellip;</td><td>&hellip;</td><td>&hellip;</td><td>&hellip;</td><td>&hellip;</td><td>&hellip;</td></tr><tr><td>2006980355</td><td>&quot;RCP2.6&quot;</td><td>201028</td><td>0.01968</td><td>0.004793</td><td>0.014887</td><td>100.572698</td><td>6.132625</td><td>94.440072</td><td>0.01968</td><td>0.014887</td><td>0.004793</td><td>true</td><td>57.0</td><td>2740</td><td>1.0</td><td>50</td><td>53.0</td><td>1.0</td><td>72.0</td><td>1.0</td><td>75.644888</td><td>24.355112</td><td>&quot;High&quot;</td><td>&quot;Negligible&quot;</td><td>&quot;High&quot;</td><td>&quot;Negligible&quot;</td><td>&quot;Negligible&quot;</td></tr><tr><td>1030215664</td><td>&quot;RCP2.6&quot;</td><td>252036</td><td>0.006776</td><td>0.000896</td><td>0.00588</td><td>100.572698</td><td>6.132625</td><td>94.440072</td><td>0.006776</td><td>0.00588</td><td>0.000896</td><td>true</td><td>25.0</td><td>1196</td><td>0.0</td><td>18</td><td>27.0</td><td>0.0</td><td>23.0</td><td>0.0</td><td>86.782399</td><td>13.217601</td><td>&quot;High&quot;</td><td>&quot;Negligible&quot;</td><td>&quot;Medium&quot;</td><td>&quot;Negligible&quot;</td><td>&quot;Negligible&quot;</td></tr><tr><td>1008759007</td><td>&quot;RCP2.6&quot;</td><td>151015</td><td>0.036442</td><td>0.009888</td><td>0.026554</td><td>100.572698</td><td>6.132625</td><td>94.440072</td><td>0.036442</td><td>0.026554</td><td>0.009888</td><td>true</td><td>73.0</td><td>3543</td><td>4.0</td><td>176</td><td>70.0</td><td>3.0</td><td>84.0</td><td>4.0</td><td>72.866728</td><td>27.133272</td><td>&quot;High&quot;</td><td>&quot;Low&quot;</td><td>&quot;Severe&quot;</td><td>&quot;Low&quot;</td><td>&quot;Negligible&quot;</td></tr><tr><td>1008761183</td><td>&quot;RCP2.6&quot;</td><td>201025</td><td>0.021185</td><td>0.004654</td><td>0.01653</td><td>100.572698</td><td>6.132625</td><td>94.440072</td><td>0.021185</td><td>0.01653</td><td>0.004654</td><td>true</td><td>59.0</td><td>2853</td><td>1.0</td><td>46</td><td>57.0</td><td>1.0</td><td>72.0</td><td>1.0</td><td>78.029435</td><td>21.970565</td><td>&quot;High&quot;</td><td>&quot;Negligible&quot;</td><td>&quot;High&quot;</td><td>&quot;Negligible&quot;</td><td>&quot;Negligible&quot;</td></tr><tr><td>1007910068</td><td>&quot;RCP2.6&quot;</td><td>352045</td><td>-0.022557</td><td>-0.003548</td><td>-0.019009</td><td>100.572698</td><td>6.132625</td><td>94.440072</td><td>100.595255</td><td>94.459081</td><td>6.136173</td><td>true</td><td>97.0</td><td>4666</td><td>6.0</td><td>283</td><td>96.0</td><td>6.0</td><td>97.0</td><td>6.0</td><td>84.271244</td><td>15.728756</td><td>&quot;Severe - Negative Cash Flow&quot;</td><td>&quot;Severe - Negative Cash Flow&quot;</td><td>&quot;Severe - Negative Cash Flow&quot;</td><td>&quot;Severe - Negative Cash Flow&quot;</td><td>&quot;Severe - Negative Cash Flow&quot;</td></tr></tbody></table></div>"
      ],
      "text/plain": [
       "shape: (4_835, 28)\n",
       "┌────────────┬──────────────┬──────────────┬──────────────┬───┬──────────────┬─────────────┬─────────────┬─────────────┐\n",
       "│ entity_id  ┆ rcp_scenario ┆ clientindust ┆ total_loss_r ┆ … ┆ industry_cat ┆ overall_cat ┆ industry_ca ┆ total_loss_ │\n",
       "│ ---        ┆ ---          ┆ ryid         ┆ atio_discoun ┆   ┆ egory_direct ┆ egory_indir ┆ tegory_indi ┆ ratio_categ │\n",
       "│ i64        ┆ str          ┆ ---          ┆ ted          ┆   ┆ _loss_…      ┆ ect_loss…   ┆ rect_los…   ┆ ory         │\n",
       "│            ┆              ┆ i64          ┆ ---          ┆   ┆ ---          ┆ ---         ┆ ---         ┆ ---         │\n",
       "│            ┆              ┆              ┆ f64          ┆   ┆ str          ┆ str         ┆ str         ┆ str         │\n",
       "╞════════════╪══════════════╪══════════════╪══════════════╪═══╪══════════════╪═════════════╪═════════════╪═════════════╡\n",
       "│ 2006146113 ┆ RCP2.6       ┆ 451050       ┆ 0.000127     ┆ … ┆ Negligible   ┆ Low         ┆ Negligible  ┆ Negligible  │\n",
       "│ 2007748991 ┆ RCP2.6       ┆ 451050       ┆ 0.002745     ┆ … ┆ Low          ┆ Medium      ┆ Negligible  ┆ Negligible  │\n",
       "│ 2000219494 ┆ RCP2.6       ┆ 254039       ┆ 0.010407     ┆ … ┆ Negligible   ┆ High        ┆ Negligible  ┆ Negligible  │\n",
       "│ 1008243682 ┆ RCP2.6       ┆ 255040       ┆ 0.01517      ┆ … ┆ Low          ┆ High        ┆ Low         ┆ Negligible  │\n",
       "│ 1008754510 ┆ RCP2.6       ┆ 501053       ┆ 0.011067     ┆ … ┆ Negligible   ┆ Medium      ┆ Negligible  ┆ Negligible  │\n",
       "│ …          ┆ …            ┆ …            ┆ …            ┆ … ┆ …            ┆ …           ┆ …           ┆ …           │\n",
       "│ 2006980355 ┆ RCP2.6       ┆ 201028       ┆ 0.01968      ┆ … ┆ Negligible   ┆ High        ┆ Negligible  ┆ Negligible  │\n",
       "│ 1030215664 ┆ RCP2.6       ┆ 252036       ┆ 0.006776     ┆ … ┆ Negligible   ┆ Medium      ┆ Negligible  ┆ Negligible  │\n",
       "│ 1008759007 ┆ RCP2.6       ┆ 151015       ┆ 0.036442     ┆ … ┆ Low          ┆ Severe      ┆ Low         ┆ Negligible  │\n",
       "│ 1008761183 ┆ RCP2.6       ┆ 201025       ┆ 0.021185     ┆ … ┆ Negligible   ┆ High        ┆ Negligible  ┆ Negligible  │\n",
       "│ 1007910068 ┆ RCP2.6       ┆ 352045       ┆ -0.022557    ┆ … ┆ Severe -     ┆ Severe -    ┆ Severe -    ┆ Severe -    │\n",
       "│            ┆              ┆              ┆              ┆   ┆ Negative     ┆ Negative    ┆ Negative    ┆ Negative    │\n",
       "│            ┆              ┆              ┆              ┆   ┆ Cash Flow    ┆ Cash Flow   ┆ Cash Flow   ┆ Cash Flow   │\n",
       "└────────────┴──────────────┴──────────────┴──────────────┴───┴──────────────┴─────────────┴─────────────┴─────────────┘"
      ]
     },
     "execution_count": 24,
     "metadata": {},
     "output_type": "execute_result"
    }
   ],
   "source": [
    "def categorize_level_polars(df):\n",
    "    return df.with_columns([\n",
    "        pl.when(pl.col('direct_loss_ratio_discounted') >= 0)\n",
    "            .then(pl.col('overall_percentile_direct_loss_ratio').map_elements(lambda x: categorize_level(x, tier_conditions, 'exposure_percentile'),\n",
    "                                                                              return_dtype=pl.Utf8))\n",
    "            .otherwise(pl.lit(categorize_level(-2, tier_conditions, 'exposure_percentile')))\n",
    "            .alias('overall_category_direct_loss_ratio'),\n",
    "\n",
    "        pl.when(pl.col('direct_loss_ratio_discounted') >= 0)\n",
    "            .then(pl.col('industry_percentile_direct_loss_ratio').map_elements(lambda x: categorize_level(x, tier_conditions, 'exposure_percentile'),return_dtype=pl.Utf8))\n",
    "            .otherwise(pl.lit(categorize_level(-2, tier_conditions, 'exposure_percentile')))\n",
    "            .alias('industry_category_direct_loss_ratio'),\n",
    "\n",
    "        pl.when(pl.col('indirect_loss_ratio_discounted') >= 0)\n",
    "            .then(pl.col('overall_percentile_indirect_loss_ratio').map_elements(lambda x: categorize_level(x, tier_conditions, 'exposure_percentile'),return_dtype=pl.Utf8))\n",
    "            .otherwise(pl.lit(categorize_level(-2, tier_conditions, 'exposure_percentile')))\n",
    "            .alias('overall_category_indirect_loss_ratio'),\n",
    "\n",
    "        pl.when(pl.col('indirect_loss_ratio_discounted') >= 0)\n",
    "            .then(pl.col('industry_percentile_indirect_loss_ratio').map_elements(lambda x: categorize_level(x, tier_conditions, 'exposure_percentile'),return_dtype=pl.Utf8))\n",
    "            .otherwise(pl.lit(categorize_level(-2, tier_conditions, 'exposure_percentile')))\n",
    "            .alias('industry_category_indirect_loss_ratio'),\n",
    "\n",
    "        pl.when(pl.col('total_loss_ratio_discounted') >= 0)\n",
    "            .then((pl.col('indirect_loss_ratio_discounted').round(2) + pl.col('direct_loss_ratio_discounted').round(2))\n",
    "                .map_elements(lambda x: categorize_level(x, tier_conditions, 'exposure'),return_dtype=pl.Utf8))\n",
    "            .otherwise(pl.lit(categorize_level(-2, tier_conditions, 'exposure')))\n",
    "            .alias('total_loss_ratio_category')\n",
    "    ])\n",
    "\n",
    "max_values = categorize_level_polars(max_values)\n",
    "max_values"
   ]
  },
  {
   "cell_type": "code",
   "execution_count": 25,
   "id": "513b2699-9ccf-4f09-8286-a3088eda3fa4",
   "metadata": {},
   "outputs": [],
   "source": [
    "# max_values['overall_category_direct_loss_ratio'] = max_values.apply(\n",
    "#     lambda row: categorize_level(row['overall_percentile_direct_loss_ratio'], tier_conditions, 'exposure_percentile') \n",
    "#                 if row['direct_loss_ratio_discounted'] >= 0 else categorize_level(-2, tier_conditions, 'exposure_percentile'), axis=1)\n",
    "\n",
    "# max_values['industry_category_direct_loss_ratio'] = max_values.apply(\n",
    "#     lambda row: categorize_level(row['industry_percentile_direct_loss_ratio'], tier_conditions, 'exposure_percentile') \n",
    "#                 if row['direct_loss_ratio_discounted'] >= 0 else categorize_level(-2, tier_conditions, 'exposure_percentile'), axis=1)\n",
    "\n",
    "# max_values['overall_category_indirect_loss_ratio'] = max_values.apply(\n",
    "#     lambda row: categorize_level(row['overall_percentile_indirect_loss_ratio'], tier_conditions, 'exposure_percentile') \n",
    "#                 if row['indirect_loss_ratio_discounted'] >= 0 else categorize_level(-2, tier_conditions, 'exposure_percentile'), axis=1)\n",
    "\n",
    "# max_values['industry_category_indirect_loss_ratio'] = max_values.apply(\n",
    "#     lambda row: categorize_level(row['industry_percentile_indirect_loss_ratio'], tier_conditions, 'exposure_percentile') \n",
    "#                 if row['indirect_loss_ratio_discounted'] >= 0 else categorize_level(-2, tier_conditions, 'exposure_percentile'), axis=1)\n",
    "\n",
    "# max_values['total_loss_ratio_category'] = max_values.apply(\n",
    "#     lambda row: categorize_level(round(row['indirect_loss_ratio_discounted'], 2) + round(row['direct_loss_ratio_discounted'], 2), tier_conditions, 'exposure') \n",
    "#                 if row['total_loss_ratio_discounted'] >= 0 else categorize_level(-2, tier_conditions, 'exposure'), axis=1)\n"
   ]
  },
  {
   "cell_type": "code",
   "execution_count": 26,
   "id": "8b6815eb-9dbb-4923-9e31-71a6eec1ddc6",
   "metadata": {},
   "outputs": [
    {
     "data": {
      "text/plain": [
       "{'cash_flow_series_cumulative_discounted',\n",
       " 'cash_flow_series_cumulative_undiscounted',\n",
       " 'direct_loss_ratio_undiscounted',\n",
       " 'expected_asset_damage_loss_amount_cumulative_discounted',\n",
       " 'expected_asset_damage_loss_amount_cumulative_undiscounted',\n",
       " 'expected_direct_damage_loss_amount_cumulative_discounted',\n",
       " 'expected_direct_damage_loss_amount_cumulative_undiscounted',\n",
       " 'expected_indirect_loss_amount_cumulative_discounted',\n",
       " 'expected_indirect_loss_amount_cumulative_undiscounted',\n",
       " 'expected_revenue_loss_amount_cumulative_discounted',\n",
       " 'expected_revenue_loss_amount_cumulative_undiscounted',\n",
       " 'expected_total_loss_amount_cumulative_discounted',\n",
       " 'expected_total_loss_amount_cumulative_undiscounted',\n",
       " 'indirect_loss_ratio_undiscounted',\n",
       " 'total_loss_ratio_undiscounted'}"
      ]
     },
     "execution_count": 26,
     "metadata": {},
     "output_type": "execute_result"
    }
   ],
   "source": [
    "set(exposure_datapoints_df.columns) - set(max_values.columns)"
   ]
  },
  {
   "cell_type": "code",
   "execution_count": 27,
   "id": "73a71c1b-0385-478b-aeab-1e4c3862d9b8",
   "metadata": {},
   "outputs": [
    {
     "data": {
      "text/plain": [
       "43"
      ]
     },
     "execution_count": 27,
     "metadata": {},
     "output_type": "execute_result"
    }
   ],
   "source": [
    "len(set(exposure_datapoints_df.columns).union(set(max_values.columns)) )# - set(exposure_datapoints_df)"
   ]
  },
  {
   "cell_type": "code",
   "execution_count": 28,
   "id": "08d3177c-9ef0-4789-b8a9-464b17f1bb89",
   "metadata": {},
   "outputs": [
    {
     "data": {
      "text/plain": [
       "['entity_id',\n",
       " 'rcp_scenario',\n",
       " 'clientindustryid',\n",
       " 'total_loss_ratio_discounted',\n",
       " 'indirect_loss_ratio_discounted',\n",
       " 'direct_loss_ratio_discounted',\n",
       " 'max_total_loss_ratio_discounted',\n",
       " 'max_indirect_loss_ratio_discounted',\n",
       " 'max_direct_loss_ratio_discounted',\n",
       " 'adjusted_total_loss_ratio_discounted',\n",
       " 'adjusted_direct_loss_ratio_discounted',\n",
       " 'adjusted_indirect_loss_ratio_discounted',\n",
       " 'maintain_order',\n",
       " 'overall_percentile_total_loss_ratio',\n",
       " 'total_loss_ratio_rank_overall',\n",
       " 'industry_percentile_total_loss_ratio',\n",
       " 'total_loss_ratio_rank_industry',\n",
       " 'overall_percentile_direct_loss_ratio',\n",
       " 'industry_percentile_direct_loss_ratio',\n",
       " 'overall_percentile_indirect_loss_ratio',\n",
       " 'industry_percentile_indirect_loss_ratio',\n",
       " 'percent_total_loss_from_direct',\n",
       " 'percent_total_loss_from_indirect',\n",
       " 'overall_category_direct_loss_ratio',\n",
       " 'industry_category_direct_loss_ratio',\n",
       " 'overall_category_indirect_loss_ratio',\n",
       " 'industry_category_indirect_loss_ratio',\n",
       " 'total_loss_ratio_category']"
      ]
     },
     "execution_count": 28,
     "metadata": {},
     "output_type": "execute_result"
    }
   ],
   "source": [
    "max_values.columns"
   ]
  },
  {
   "cell_type": "code",
   "execution_count": 29,
   "id": "3580117d-617c-4fa5-a423-4436c8f5bca5",
   "metadata": {},
   "outputs": [],
   "source": [
    "# final_exposure = exposure_datapoints_df.merge(max_values[['entity_id','rcp_scenario',\n",
    "# 'adjusted_direct_loss_ratio_discounted',\n",
    "#  'adjusted_indirect_loss_ratio_discounted',\n",
    "#  'adjusted_total_loss_ratio_discounted',\n",
    "#  'industry_category_direct_loss_ratio',\n",
    "#  'industry_category_indirect_loss_ratio',\n",
    "#  'industry_percentile_direct_loss_ratio',\n",
    "#  'industry_percentile_indirect_loss_ratio',\n",
    "#  'industry_percentile_total_loss_ratio',\n",
    "#  'max_direct_loss_ratio_discounted',\n",
    "#  'max_indirect_loss_ratio_discounted',\n",
    "#  'max_total_loss_ratio_discounted',\n",
    "#  'overall_category_direct_loss_ratio',\n",
    "#  'overall_category_indirect_loss_ratio',\n",
    "#  'overall_percentile_direct_loss_ratio',\n",
    "#  'overall_percentile_indirect_loss_ratio',\n",
    "#  'overall_percentile_total_loss_ratio',\n",
    "#  'percent_total_loss_from_direct',\n",
    "#  'percent_total_loss_from_indirect',\n",
    "#  'total_loss_ratio_category',\n",
    "#  'total_loss_ratio_rank_industry',\n",
    "#  'total_loss_ratio_rank_overall']], on=['entity_id','rcp_scenario'], how = 'left')"
   ]
  },
  {
   "cell_type": "code",
   "execution_count": 30,
   "id": "300448c2-5a8b-475c-b469-36cf27882d6b",
   "metadata": {
    "scrolled": true
   },
   "outputs": [
    {
     "data": {
      "text/html": [
       "<div><style>\n",
       ".dataframe > thead > tr,\n",
       ".dataframe > tbody > tr {\n",
       "  text-align: right;\n",
       "  white-space: pre-wrap;\n",
       "}\n",
       "</style>\n",
       "<small>shape: (5_031, 42)</small><table border=\"1\" class=\"dataframe\"><thead><tr><th>entity_id</th><th>rcp_scenario</th><th>expected_indirect_loss_amount_cumulative_undiscounted</th><th>expected_indirect_loss_amount_cumulative_discounted</th><th>expected_revenue_loss_amount_cumulative_undiscounted</th><th>expected_revenue_loss_amount_cumulative_discounted</th><th>expected_asset_damage_loss_amount_cumulative_undiscounted</th><th>expected_asset_damage_loss_amount_cumulative_discounted</th><th>cash_flow_series_cumulative_discounted</th><th>cash_flow_series_cumulative_undiscounted</th><th>clientindustryid</th><th>expected_direct_damage_loss_amount_cumulative_undiscounted</th><th>expected_total_loss_amount_cumulative_undiscounted</th><th>indirect_loss_ratio_undiscounted</th><th>direct_loss_ratio_undiscounted</th><th>total_loss_ratio_undiscounted</th><th>expected_direct_damage_loss_amount_cumulative_discounted</th><th>expected_total_loss_amount_cumulative_discounted</th><th>indirect_loss_ratio_discounted</th><th>direct_loss_ratio_discounted</th><th>total_loss_ratio_discounted</th><th>adjusted_direct_loss_ratio_discounted</th><th>adjusted_indirect_loss_ratio_discounted</th><th>adjusted_total_loss_ratio_discounted</th><th>industry_category_direct_loss_ratio</th><th>industry_category_indirect_loss_ratio</th><th>industry_percentile_direct_loss_ratio</th><th>industry_percentile_indirect_loss_ratio</th><th>industry_percentile_total_loss_ratio</th><th>max_direct_loss_ratio_discounted</th><th>max_indirect_loss_ratio_discounted</th><th>max_total_loss_ratio_discounted</th><th>overall_category_direct_loss_ratio</th><th>overall_category_indirect_loss_ratio</th><th>overall_percentile_direct_loss_ratio</th><th>overall_percentile_indirect_loss_ratio</th><th>overall_percentile_total_loss_ratio</th><th>percent_total_loss_from_direct</th><th>percent_total_loss_from_indirect</th><th>total_loss_ratio_category</th><th>total_loss_ratio_rank_industry</th><th>total_loss_ratio_rank_overall</th></tr><tr><td>i64</td><td>str</td><td>f64</td><td>f64</td><td>f64</td><td>f64</td><td>f64</td><td>f64</td><td>f64</td><td>f64</td><td>i64</td><td>f64</td><td>f64</td><td>f64</td><td>f64</td><td>f64</td><td>f64</td><td>f64</td><td>f64</td><td>f64</td><td>f64</td><td>f64</td><td>f64</td><td>f64</td><td>str</td><td>str</td><td>f64</td><td>f64</td><td>f64</td><td>f64</td><td>f64</td><td>f64</td><td>str</td><td>str</td><td>f64</td><td>f64</td><td>f64</td><td>f64</td><td>f64</td><td>str</td><td>i32</td><td>i32</td></tr></thead><tbody><tr><td>1007896773</td><td>&quot;RCP2.6&quot;</td><td>2.8301e8</td><td>1.0364e8</td><td>5.6149e8</td><td>2.1143e8</td><td>5.1009e8</td><td>1.9410e8</td><td>2.7502e10</td><td>6.3446e10</td><td>201025</td><td>1.0716e9</td><td>1.3546e9</td><td>0.004461</td><td>0.01689</td><td>0.02135</td><td>4.0553e8</td><td>5.0917e8</td><td>0.003768</td><td>0.014746</td><td>0.018514</td><td>0.014746</td><td>0.003768</td><td>0.018514</td><td>&quot;Negligible&quot;</td><td>&quot;Negligible&quot;</td><td>1.0</td><td>1.0</td><td>1.0</td><td>94.440072</td><td>6.132625</td><td>100.572698</td><td>&quot;High&quot;</td><td>&quot;High&quot;</td><td>53.0</td><td>67.0</td><td>55.0</td><td>79.646154</td><td>20.353846</td><td>&quot;Negligible&quot;</td><td>43</td><td>2653</td></tr><tr><td>1007896917</td><td>&quot;RCP2.6&quot;</td><td>5.4395e7</td><td>1.9787e7</td><td>1.1731e8</td><td>4.3935e7</td><td>4.2215e8</td><td>1.5619e8</td><td>1.2878e10</td><td>2.9708e10</td><td>151015</td><td>5.3946e8</td><td>5.9386e8</td><td>0.001831</td><td>0.018159</td><td>0.01999</td><td>2.0012e8</td><td>2.1991e8</td><td>0.001537</td><td>0.01554</td><td>0.017077</td><td>0.01554</td><td>0.001537</td><td>0.017077</td><td>&quot;Low&quot;</td><td>&quot;Negligible&quot;</td><td>2.0</td><td>1.0</td><td>2.0</td><td>94.440072</td><td>6.132625</td><td>100.572698</td><td>&quot;High&quot;</td><td>&quot;High&quot;</td><td>55.0</td><td>38.0</td><td>52.0</td><td>91.002272</td><td>8.997728</td><td>&quot;Negligible&quot;</td><td>111</td><td>2530</td></tr><tr><td>1007896995</td><td>&quot;RCP2.6&quot;</td><td>3.3661e9</td><td>1.2071e9</td><td>9.4624e9</td><td>3.5411e9</td><td>1.0044e10</td><td>3.7844e9</td><td>6.9379e11</td><td>1.6006e12</td><td>255040</td><td>1.9507e10</td><td>2.2873e10</td><td>0.002103</td><td>0.012188</td><td>0.014291</td><td>7.3254e9</td><td>8.5325e9</td><td>0.00174</td><td>0.010559</td><td>0.012298</td><td>0.010559</td><td>0.00174</td><td>0.012298</td><td>&quot;Negligible&quot;</td><td>&quot;Negligible&quot;</td><td>1.0</td><td>1.0</td><td>1.0</td><td>94.440072</td><td>6.132625</td><td>100.572698</td><td>&quot;High&quot;</td><td>&quot;High&quot;</td><td>43.0</td><td>42.0</td><td>41.0</td><td>85.853216</td><td>14.146784</td><td>&quot;Negligible&quot;</td><td>67</td><td>2004</td></tr><tr><td>1007897937</td><td>&quot;RCP2.6&quot;</td><td>1.4758e8</td><td>5.4398e7</td><td>6.7413e8</td><td>2.5709e8</td><td>3.3269e8</td><td>1.2851e8</td><td>1.9160e11</td><td>4.4202e11</td><td>452051</td><td>1.0068e9</td><td>1.1544e9</td><td>0.000334</td><td>0.002278</td><td>0.002612</td><td>3.8559e8</td><td>4.3999e8</td><td>0.000284</td><td>0.002012</td><td>0.002296</td><td>0.002012</td><td>0.000284</td><td>0.002296</td><td>&quot;Negligible&quot;</td><td>&quot;Negligible&quot;</td><td>1.0</td><td>1.0</td><td>1.0</td><td>94.440072</td><td>6.132625</td><td>100.572698</td><td>&quot;Medium&quot;</td><td>&quot;Medium&quot;</td><td>10.0</td><td>6.0</td><td>8.0</td><td>87.636546</td><td>12.363454</td><td>&quot;Negligible&quot;</td><td>30</td><td>372</td></tr><tr><td>1007899373</td><td>&quot;RCP2.6&quot;</td><td>5.4840e8</td><td>1.9922e8</td><td>1.6631e9</td><td>6.3526e8</td><td>2.8064e9</td><td>1.1102e9</td><td>3.5418e11</td><td>8.1709e11</td><td>453052</td><td>4.4695e9</td><td>5.0179e9</td><td>0.000671</td><td>0.00547</td><td>0.006141</td><td>1.7454e9</td><td>1.9446e9</td><td>0.000562</td><td>0.004928</td><td>0.00549</td><td>0.004928</td><td>0.000562</td><td>0.00549</td><td>&quot;Low&quot;</td><td>&quot;Negligible&quot;</td><td>2.0</td><td>1.0</td><td>2.0</td><td>94.440072</td><td>6.132625</td><td>100.572698</td><td>&quot;Medium&quot;</td><td>&quot;Medium&quot;</td><td>23.0</td><td>14.0</td><td>20.0</td><td>89.755619</td><td>10.244381</td><td>&quot;Negligible&quot;</td><td>79</td><td>950</td></tr><tr><td>&hellip;</td><td>&hellip;</td><td>&hellip;</td><td>&hellip;</td><td>&hellip;</td><td>&hellip;</td><td>&hellip;</td><td>&hellip;</td><td>&hellip;</td><td>&hellip;</td><td>&hellip;</td><td>&hellip;</td><td>&hellip;</td><td>&hellip;</td><td>&hellip;</td><td>&hellip;</td><td>&hellip;</td><td>&hellip;</td><td>&hellip;</td><td>&hellip;</td><td>&hellip;</td><td>&hellip;</td><td>&hellip;</td><td>&hellip;</td><td>&hellip;</td><td>&hellip;</td><td>&hellip;</td><td>&hellip;</td><td>&hellip;</td><td>&hellip;</td><td>&hellip;</td><td>&hellip;</td><td>&hellip;</td><td>&hellip;</td><td>&hellip;</td><td>&hellip;</td><td>&hellip;</td><td>&hellip;</td><td>&hellip;</td><td>&hellip;</td><td>&hellip;</td><td>&hellip;</td></tr><tr><td>2013403858</td><td>&quot;RCP2.6&quot;</td><td>1.9347e6</td><td>719120.837924</td><td>4.5460e6</td><td>1.7430e6</td><td>7809.807867</td><td>3001.62385</td><td>1.0936e9</td><td>2.5230e9</td><td>101012</td><td>4.5538e6</td><td>6.4884e6</td><td>0.000767</td><td>0.001805</td><td>0.002572</td><td>1.7460e6</td><td>2.4651e6</td><td>0.000658</td><td>0.001596</td><td>0.002254</td><td>0.001596</td><td>0.000658</td><td>0.002254</td><td>&quot;Negligible&quot;</td><td>&quot;Negligible&quot;</td><td>0.0</td><td>1.0</td><td>0.0</td><td>94.440072</td><td>6.132625</td><td>100.572698</td><td>&quot;Medium&quot;</td><td>&quot;Medium&quot;</td><td>8.0</td><td>16.0</td><td>8.0</td><td>70.828107</td><td>29.171893</td><td>&quot;Negligible&quot;</td><td>19</td><td>368</td></tr><tr><td>2013485408</td><td>&quot;RCP2.6&quot;</td><td>161048.105553</td><td>60335.754688</td><td>396960.163283</td><td>150619.74539</td><td>10694.351494</td><td>4062.337339</td><td>-1.2934e7</td><td>-2.9838e7</td><td>201026</td><td>407654.514777</td><td>568702.62033</td><td>-0.005397</td><td>-0.013662</td><td>-0.01906</td><td>154682.08273</td><td>215017.837417</td><td>-0.004665</td><td>-0.011959</td><td>-0.016624</td><td>94.452032</td><td>6.13729</td><td>100.589322</td><td>&quot;Severe - Negative Cash Flow&quot;</td><td>&quot;Severe - Negative Cash Flow&quot;</td><td>1.0</td><td>1.0</td><td>1.0</td><td>94.440072</td><td>6.132625</td><td>100.572698</td><td>&quot;Severe - Negative Cash Flow&quot;</td><td>&quot;Severe - Negative Cash Flow&quot;</td><td>96.0</td><td>97.0</td><td>96.0</td><td>71.939186</td><td>28.060814</td><td>&quot;Severe - Negative Cash Flow&quot;</td><td>65</td><td>4638</td></tr><tr><td>2013538646</td><td>&quot;RCP2.6&quot;</td><td>207061.85962</td><td>74600.347023</td><td>493187.156035</td><td>185858.074838</td><td>3.1643e6</td><td>1.1537e6</td><td>-5.3896e8</td><td>-1.2434e9</td><td>201024</td><td>3.6575e6</td><td>3.8645e6</td><td>-0.000167</td><td>-0.002942</td><td>-0.003108</td><td>1.3396e6</td><td>1.4142e6</td><td>-0.000138</td><td>-0.002486</td><td>-0.002624</td><td>94.442558</td><td>6.132764</td><td>100.575322</td><td>&quot;Severe - Negative Cash Flow&quot;</td><td>&quot;Severe - Negative Cash Flow&quot;</td><td>2.0</td><td>2.0</td><td>2.0</td><td>94.440072</td><td>6.132625</td><td>100.572698</td><td>&quot;Severe - Negative Cash Flow&quot;</td><td>&quot;Severe - Negative Cash Flow&quot;</td><td>93.0</td><td>92.0</td><td>93.0</td><td>94.724889</td><td>5.275111</td><td>&quot;Severe - Negative Cash Flow&quot;</td><td>115</td><td>4494</td></tr><tr><td>2013573664</td><td>&quot;RCP2.6&quot;</td><td>4.2634e8</td><td>1.5365e8</td><td>9.0116e8</td><td>3.4075e8</td><td>4.0450e9</td><td>1.4948e9</td><td>1.1234e11</td><td>2.5916e11</td><td>151015</td><td>4.9461e9</td><td>5.3725e9</td><td>0.001645</td><td>0.019085</td><td>0.02073</td><td>1.8356e9</td><td>1.9892e9</td><td>0.001368</td><td>0.01634</td><td>0.017707</td><td>0.01634</td><td>0.001368</td><td>0.017707</td><td>&quot;Low&quot;</td><td>&quot;Negligible&quot;</td><td>3.0</td><td>1.0</td><td>2.0</td><td>94.440072</td><td>6.132625</td><td>100.572698</td><td>&quot;High&quot;</td><td>&quot;High&quot;</td><td>57.0</td><td>35.0</td><td>53.0</td><td>92.275764</td><td>7.724236</td><td>&quot;Negligible&quot;</td><td>115</td><td>2583</td></tr><tr><td>2013649583</td><td>&quot;RCP2.6&quot;</td><td>3.7928e7</td><td>1.3948e7</td><td>8.2810e7</td><td>3.1475e7</td><td>5.7686e7</td><td>2.1606e7</td><td>2.9807e9</td><td>6.8763e9</td><td>201022</td><td>1.4050e8</td><td>1.7842e8</td><td>0.005516</td><td>0.020432</td><td>0.025948</td><td>5.3082e7</td><td>6.7030e7</td><td>0.00468</td><td>0.017809</td><td>0.022488</td><td>0.017809</td><td>0.00468</td><td>0.022488</td><td>&quot;Negligible&quot;</td><td>&quot;Negligible&quot;</td><td>1.0</td><td>1.0</td><td>1.0</td><td>94.440072</td><td>6.132625</td><td>100.572698</td><td>&quot;High&quot;</td><td>&quot;High&quot;</td><td>59.0</td><td>72.0</td><td>61.0</td><td>79.190723</td><td>20.809277</td><td>&quot;Negligible&quot;</td><td>31</td><td>2953</td></tr></tbody></table></div>"
      ],
      "text/plain": [
       "shape: (5_031, 42)\n",
       "┌────────────┬──────────────┬──────────────┬──────────────┬───┬──────────────┬─────────────┬─────────────┬─────────────┐\n",
       "│ entity_id  ┆ rcp_scenario ┆ expected_ind ┆ expected_ind ┆ … ┆ percent_tota ┆ total_loss_ ┆ total_loss_ ┆ total_loss_ │\n",
       "│ ---        ┆ ---          ┆ irect_loss_a ┆ irect_loss_a ┆   ┆ l_loss_from_ ┆ ratio_categ ┆ ratio_rank_ ┆ ratio_rank_ │\n",
       "│ i64        ┆ str          ┆ mount_…      ┆ mount_…      ┆   ┆ indire…      ┆ ory         ┆ industry    ┆ overall     │\n",
       "│            ┆              ┆ ---          ┆ ---          ┆   ┆ ---          ┆ ---         ┆ ---         ┆ ---         │\n",
       "│            ┆              ┆ f64          ┆ f64          ┆   ┆ f64          ┆ str         ┆ i32         ┆ i32         │\n",
       "╞════════════╪══════════════╪══════════════╪══════════════╪═══╪══════════════╪═════════════╪═════════════╪═════════════╡\n",
       "│ 1007896773 ┆ RCP2.6       ┆ 2.8301e8     ┆ 1.0364e8     ┆ … ┆ 20.353846    ┆ Negligible  ┆ 43          ┆ 2653        │\n",
       "│ 1007896917 ┆ RCP2.6       ┆ 5.4395e7     ┆ 1.9787e7     ┆ … ┆ 8.997728     ┆ Negligible  ┆ 111         ┆ 2530        │\n",
       "│ 1007896995 ┆ RCP2.6       ┆ 3.3661e9     ┆ 1.2071e9     ┆ … ┆ 14.146784    ┆ Negligible  ┆ 67          ┆ 2004        │\n",
       "│ 1007897937 ┆ RCP2.6       ┆ 1.4758e8     ┆ 5.4398e7     ┆ … ┆ 12.363454    ┆ Negligible  ┆ 30          ┆ 372         │\n",
       "│ 1007899373 ┆ RCP2.6       ┆ 5.4840e8     ┆ 1.9922e8     ┆ … ┆ 10.244381    ┆ Negligible  ┆ 79          ┆ 950         │\n",
       "│ …          ┆ …            ┆ …            ┆ …            ┆ … ┆ …            ┆ …           ┆ …           ┆ …           │\n",
       "│ 2013403858 ┆ RCP2.6       ┆ 1.9347e6     ┆ 719120.83792 ┆ … ┆ 29.171893    ┆ Negligible  ┆ 19          ┆ 368         │\n",
       "│            ┆              ┆              ┆ 4            ┆   ┆              ┆             ┆             ┆             │\n",
       "│ 2013485408 ┆ RCP2.6       ┆ 161048.10555 ┆ 60335.754688 ┆ … ┆ 28.060814    ┆ Severe -    ┆ 65          ┆ 4638        │\n",
       "│            ┆              ┆ 3            ┆              ┆   ┆              ┆ Negative    ┆             ┆             │\n",
       "│            ┆              ┆              ┆              ┆   ┆              ┆ Cash Flow   ┆             ┆             │\n",
       "│ 2013538646 ┆ RCP2.6       ┆ 207061.85962 ┆ 74600.347023 ┆ … ┆ 5.275111     ┆ Severe -    ┆ 115         ┆ 4494        │\n",
       "│            ┆              ┆              ┆              ┆   ┆              ┆ Negative    ┆             ┆             │\n",
       "│            ┆              ┆              ┆              ┆   ┆              ┆ Cash Flow   ┆             ┆             │\n",
       "│ 2013573664 ┆ RCP2.6       ┆ 4.2634e8     ┆ 1.5365e8     ┆ … ┆ 7.724236     ┆ Negligible  ┆ 115         ┆ 2583        │\n",
       "│ 2013649583 ┆ RCP2.6       ┆ 3.7928e7     ┆ 1.3948e7     ┆ … ┆ 20.809277    ┆ Negligible  ┆ 31          ┆ 2953        │\n",
       "└────────────┴──────────────┴──────────────┴──────────────┴───┴──────────────┴─────────────┴─────────────┴─────────────┘"
      ]
     },
     "execution_count": 30,
     "metadata": {},
     "output_type": "execute_result"
    }
   ],
   "source": [
    "final_exposure = exposure_datapoints_df.join(max_values[['entity_id','rcp_scenario',\n",
    "'adjusted_direct_loss_ratio_discounted',\n",
    " 'adjusted_indirect_loss_ratio_discounted',\n",
    " 'adjusted_total_loss_ratio_discounted',\n",
    " 'industry_category_direct_loss_ratio',\n",
    " 'industry_category_indirect_loss_ratio',\n",
    " 'industry_percentile_direct_loss_ratio',\n",
    " 'industry_percentile_indirect_loss_ratio',\n",
    " 'industry_percentile_total_loss_ratio',\n",
    " 'max_direct_loss_ratio_discounted',\n",
    " 'max_indirect_loss_ratio_discounted',\n",
    " 'max_total_loss_ratio_discounted',\n",
    " 'overall_category_direct_loss_ratio',\n",
    " 'overall_category_indirect_loss_ratio',\n",
    " 'overall_percentile_direct_loss_ratio',\n",
    " 'overall_percentile_indirect_loss_ratio',\n",
    " 'overall_percentile_total_loss_ratio',\n",
    " 'percent_total_loss_from_direct',\n",
    " 'percent_total_loss_from_indirect',\n",
    " 'total_loss_ratio_category',\n",
    " 'total_loss_ratio_rank_industry',\n",
    " 'total_loss_ratio_rank_overall']], on=['entity_id','rcp_scenario'], how = 'left',coalesce=True).sort(by='entity_id')\n",
    "\n",
    "final_exposure"
   ]
  },
  {
   "cell_type": "code",
   "execution_count": 31,
   "id": "56edcb9a-f07c-41de-9e23-c4d310f2d020",
   "metadata": {},
   "outputs": [],
   "source": [
    "final_exposure = final_exposure.with_columns(\n",
    "    pl.when(pl.col('indirect_loss_ratio_discounted') < 0)\n",
    "        .then(pl.col('indirect_loss_ratio_discounted'))\n",
    "        .otherwise(pl.col('indirect_loss_ratio_discounted').round(2))\n",
    "        .alias('indirect_loss_ratio_discounted')\n",
    ")\n",
    "\n",
    "final_exposure = final_exposure.with_columns(\n",
    "    pl.when(pl.col('direct_loss_ratio_discounted') < 0)\n",
    "        .then(pl.col('direct_loss_ratio_discounted'))\n",
    "        .otherwise(pl.col('direct_loss_ratio_discounted').round(2))\n",
    "        .alias('direct_loss_ratio_discounted')\n",
    ")\n",
    "\n",
    "final_exposure = final_exposure.with_columns(\n",
    "    (\n",
    "        pl.when(pl.col('indirect_loss_ratio_discounted') < 0)\n",
    "            .then(pl.col('indirect_loss_ratio_discounted'))\n",
    "            .otherwise(pl.col('indirect_loss_ratio_discounted').round(2))\n",
    "        + \n",
    "        pl.when(pl.col('direct_loss_ratio_discounted') < 0)\n",
    "            .then(pl.col('direct_loss_ratio_discounted'))\n",
    "            .otherwise(pl.col('direct_loss_ratio_discounted').round(2))\n",
    "    ).alias('total_loss_ratio_discounted')\n",
    ")\n",
    "\n",
    "final_exposure = final_exposure.with_columns(\n",
    "    (\n",
    "        pl.col('expected_revenue_loss_amount_cumulative_discounted') / \n",
    "        pl.col('expected_total_loss_amount_cumulative_discounted') * 100\n",
    "    ).alias('percent_of_total_loss_from_revenue_impacting_loss')\n",
    ")\n",
    "\n",
    "final_exposure = final_exposure.with_columns(\n",
    "    (\n",
    "        pl.col('expected_asset_damage_loss_amount_cumulative_discounted') / \n",
    "        pl.col('expected_total_loss_amount_cumulative_discounted') * 100\n",
    "    ).alias('percent_of_total_loss_from_asset_damage_loss')\n",
    ")"
   ]
  },
  {
   "cell_type": "code",
   "execution_count": 32,
   "id": "7cc3d341-32c5-42c2-8083-2420a1de45c5",
   "metadata": {},
   "outputs": [],
   "source": [
    "# final_exposure['indirect_loss_ratio_discounted'] = np.where(\n",
    "#     final_exposure['indirect_loss_ratio_discounted'] < 0,\n",
    "#     final_exposure['indirect_loss_ratio_discounted'],\n",
    "#     final_exposure['indirect_loss_ratio_discounted'].round(2)\n",
    "# )\n",
    "\n",
    "# final_exposure['direct_loss_ratio_discounted'] = np.where(\n",
    "#     final_exposure['direct_loss_ratio_discounted'] < 0,\n",
    "#     final_exposure['direct_loss_ratio_discounted'],\n",
    "#     final_exposure['direct_loss_ratio_discounted'].round(2)\n",
    "# )\n",
    "\n",
    "# final_exposure['total_loss_ratio_discounted'] = (\n",
    "#     np.where(\n",
    "#         final_exposure['indirect_loss_ratio_discounted'] < 0,\n",
    "#         final_exposure['indirect_loss_ratio_discounted'],\n",
    "#         final_exposure['indirect_loss_ratio_discounted'].round(2)\n",
    "#     ) + np.where(\n",
    "#         final_exposure['direct_loss_ratio_discounted'] < 0,\n",
    "#         final_exposure['direct_loss_ratio_discounted'],\n",
    "#         final_exposure['direct_loss_ratio_discounted'].round(2)\n",
    "#     )\n",
    "# )\n",
    "\n",
    "# final_exposure['percent_of_total_loss_from_revenue_impacting_loss'] = (\n",
    "#     final_exposure['expected_revenue_loss_amount_cumulative_discounted'] / \n",
    "#     final_exposure['expected_total_loss_amount_cumulative_discounted'] * 100\n",
    "# )\n",
    "\n",
    "\n",
    "# final_exposure['percent_of_total_loss_from_asset_damage_loss'] = (\n",
    "#     final_exposure['expected_asset_damage_loss_amount_cumulative_discounted'] / \n",
    "#     final_exposure['expected_total_loss_amount_cumulative_discounted'] * 100\n",
    "# )"
   ]
  },
  {
   "cell_type": "code",
   "execution_count": 33,
   "id": "7cc00ac3-9dca-4e00-91cb-9e3cc4a1c214",
   "metadata": {},
   "outputs": [],
   "source": [
    "final_exposure = final_exposure[[\"entity_id\" , \"rcp_scenario\" , \"expected_revenue_loss_amount_cumulative_undiscounted\" , \"expected_asset_damage_loss_amount_cumulative_undiscounted\" , \"expected_direct_damage_loss_amount_cumulative_undiscounted\" , \"expected_indirect_loss_amount_cumulative_undiscounted\" , \"indirect_loss_ratio_undiscounted\" , \"direct_loss_ratio_undiscounted\" , \"total_loss_ratio_undiscounted\" , \"expected_revenue_loss_amount_cumulative_discounted\" , \"expected_asset_damage_loss_amount_cumulative_discounted\" , \"expected_direct_damage_loss_amount_cumulative_discounted\" , \"expected_indirect_loss_amount_cumulative_discounted\" , \"indirect_loss_ratio_discounted\" , \"direct_loss_ratio_discounted\" , \"total_loss_ratio_discounted\" , \"overall_percentile_total_loss_ratio\" , \"industry_percentile_total_loss_ratio\" , \"overall_percentile_direct_loss_ratio\" , \"overall_category_direct_loss_ratio\" , \"industry_percentile_direct_loss_ratio\" , \"percent_total_loss_from_direct\" , \"overall_percentile_indirect_loss_ratio\" , \"overall_category_indirect_loss_ratio\" , \"industry_percentile_indirect_loss_ratio\" , \"percent_total_loss_from_indirect\" , \"total_loss_ratio_category\" , \"total_loss_ratio_rank_overall\" , \"total_loss_ratio_rank_industry\" , \"expected_total_loss_amount_cumulative_undiscounted\" , \"expected_total_loss_amount_cumulative_discounted\" , \"percent_of_total_loss_from_revenue_impacting_loss\" , \"percent_of_total_loss_from_asset_damage_loss\"]]"
   ]
  },
  {
   "cell_type": "code",
   "execution_count": 37,
   "id": "b4168c41-fab5-4e1d-b270-b4aa46a50807",
   "metadata": {},
   "outputs": [],
   "source": [
    "final_exposure.write_csv(\"exposure_calculated_polars.csv\")"
   ]
  },
  {
   "cell_type": "code",
   "execution_count": null,
   "id": "e478ebcf-66b7-4439-bc07-af7cdc3affad",
   "metadata": {},
   "outputs": [],
   "source": []
  }
 ],
 "metadata": {
  "kernelspec": {
   "display_name": "Python 3 (ipykernel)",
   "language": "python",
   "name": "python3"
  },
  "language_info": {
   "codemirror_mode": {
    "name": "ipython",
    "version": 3
   },
   "file_extension": ".py",
   "mimetype": "text/x-python",
   "name": "python",
   "nbconvert_exporter": "python",
   "pygments_lexer": "ipython3",
   "version": "3.11.7"
  }
 },
 "nbformat": 4,
 "nbformat_minor": 5
}
